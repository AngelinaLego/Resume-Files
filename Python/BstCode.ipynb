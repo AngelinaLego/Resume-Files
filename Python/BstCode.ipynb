{
  "nbformat": 4,
  "nbformat_minor": 0,
  "metadata": {
    "colab": {
      "provenance": []
    },
    "kernelspec": {
      "name": "python3",
      "display_name": "Python 3"
    },
    "language_info": {
      "name": "python"
    }
  },
  "cells": [
    {
      "cell_type": "code",
      "execution_count": null,
      "metadata": {
        "id": "8zl4aRqi3QEv"
      },
      "outputs": [],
      "source": [
        "class BstNode:\n",
        "    def __init__(self, key):\n",
        "        self.key = key\n",
        "        self.right = None\n",
        "        self.left = None\n",
        "    def display(self):\n",
        "        lines, *_ = self._display_aux()\n",
        "        for line in lines:\n",
        "            print(line)\n",
        "    def _display_aux(self):\n",
        "        \"\"\"Returns list of strings, width, height, and horizontal coordinate of the root.\"\"\"\n",
        "        # No child.\n",
        "        if self.right is None and self.left is None:\n",
        "            line = '%s' % self.key\n",
        "            width = len(line)\n",
        "            height = 1\n",
        "            middle = width // 2\n",
        "            return [line], width, height, middle\n",
        "        # Only left child.\n",
        "        if self.right is None:\n",
        "            lines, n, p, x = self.left._display_aux()\n",
        "            s = '%s' % self.key\n",
        "            u = len(s)\n",
        "            first_line = (x + 1) * ' ' + (n - x - 1) * '_' + s\n",
        "            second_line = x * ' ' + '/' + (n - x - 1 + u) * ' '\n",
        "            shifted_lines = [line + u * ' ' for line in lines]\n",
        "            return [first_line, second_line] + shifted_lines, n + u, p + 2, n + u // 2\n",
        "        # Only right child.\n",
        "        if self.left is None:\n",
        "            lines, n, p, x = self.right._display_aux()\n",
        "            s = '%s' % self.key\n",
        "            u = len(s)\n",
        "            first_line = s + x * '_' + (n - x) * ' '\n",
        "            second_line = (u + x) * ' ' + '\\\\' + (n - x - 1) * ' '\n",
        "            shifted_lines = [u * ' ' + line for line in lines]\n",
        "            return [first_line, second_line] + shifted_lines, n + u, p + 2, u // 2\n",
        "        # Two children.\n",
        "        left, n, p, x = self.left._display_aux()\n",
        "        right, m, q, y = self.right._display_aux()\n",
        "        s = '%s' % self.key\n",
        "        u = len(s)\n",
        "        first_line = (x + 1) * ' ' + (n - x - 1) * '_' + s + y * '_' + (m - y) * ' '\n",
        "        second_line = x * ' ' + '/' + (n - x - 1 + u + y) * ' ' + '\\\\' + (m - y - 1) * ' '\n",
        "        if p < q:\n",
        "            left += [n * ' '] * (q - p)\n",
        "        elif q < p:\n",
        "            right += [m * ' '] * (p - q)\n",
        "        zipped_lines = zip(left, right)\n",
        "        lines = [first_line, second_line] + [a + u * ' ' + b for a, b in zipped_lines]\n",
        "        return lines, n + m + u, max(p, q) + 2, n + u // 2\n"
      ]
    },
    {
      "cell_type": "code",
      "source": [
        "class BST(BstNode):\n",
        "  def __init__(self, name):\n",
        "    super().__init__(name)\n",
        "  def insert(self, value):\n",
        "    a = BST(value)\n",
        "    a.right = self.right\n",
        "    self.right = a"
      ],
      "metadata": {
        "id": "lQQTvyU53RHh"
      },
      "execution_count": null,
      "outputs": []
    },
    {
      "cell_type": "code",
      "source": [
        "a = BstNode(3)\n",
        "a.left = BstNode(5)\n",
        "a.left.right = BstNode(1)\n",
        "a.display()\n",
        "print(\"------------\")"
      ],
      "metadata": {
        "colab": {
          "base_uri": "https://localhost:8080/"
        },
        "id": "8BZ44Odi5NnF",
        "outputId": "219996c8-63f0-457d-c3f3-c316514481e0"
      },
      "execution_count": null,
      "outputs": [
        {
          "output_type": "stream",
          "name": "stdout",
          "text": [
            " _3\n",
            "/  \n",
            "5  \n",
            " \\ \n",
            " 1 \n",
            "------------\n"
          ]
        }
      ]
    },
    {
      "cell_type": "code",
      "source": [
        "b = BstNode(7)\n",
        "b.left = BstNode(4)\n",
        "a.right = b\n",
        "a.display()\n",
        "print(\"------------\")"
      ],
      "metadata": {
        "colab": {
          "base_uri": "https://localhost:8080/"
        },
        "id": "DuoqIGi25S_x",
        "outputId": "9ef8b699-6796-489a-d46f-7ed626a46afc"
      },
      "execution_count": null,
      "outputs": [
        {
          "output_type": "stream",
          "name": "stdout",
          "text": [
            " _3_ \n",
            "/   \\\n",
            "5   7\n",
            " \\ / \n",
            " 1 4 \n",
            "------------\n"
          ]
        }
      ]
    },
    {
      "cell_type": "code",
      "source": [
        "b = BstNode(2)\n",
        "b.right = a.right\n",
        "a.right = b\n",
        "a.display()"
      ],
      "metadata": {
        "colab": {
          "base_uri": "https://localhost:8080/"
        },
        "id": "miqgQLRW5VHo",
        "outputId": "f213de7c-6f17-43ad-a808-3de5bac72432"
      },
      "execution_count": null,
      "outputs": [
        {
          "output_type": "stream",
          "name": "stdout",
          "text": [
            " _3   \n",
            "/  \\  \n",
            "5  2_ \n",
            " \\   \\\n",
            " 1   7\n",
            "    / \n",
            "    4 \n"
          ]
        }
      ]
    },
    {
      "cell_type": "code",
      "source": [
        "cooper = BST(5)\n",
        "cooper.display()"
      ],
      "metadata": {
        "colab": {
          "base_uri": "https://localhost:8080/"
        },
        "id": "fNDQB80U537g",
        "outputId": "5cc22779-5701-4d57-a4d9-d081ff34185d"
      },
      "execution_count": null,
      "outputs": [
        {
          "output_type": "stream",
          "name": "stdout",
          "text": [
            "5\n"
          ]
        }
      ]
    },
    {
      "cell_type": "code",
      "source": [
        "cooper.insert(2)\n",
        "cooper.insert(6)\n",
        "cooper.insert(1)\n",
        "cooper.display()"
      ],
      "metadata": {
        "colab": {
          "base_uri": "https://localhost:8080/"
        },
        "id": "0XO5ptg259hY",
        "outputId": "8422fb10-dc96-48bd-f692-ef4067f144b3"
      },
      "execution_count": null,
      "outputs": [
        {
          "output_type": "stream",
          "name": "stdout",
          "text": [
            "5   \n",
            " \\  \n",
            " 1  \n",
            "  \\ \n",
            "  6 \n",
            "   \\\n",
            "   2\n"
          ]
        }
      ]
    },
    {
      "cell_type": "markdown",
      "source": [
        "--------------------"
      ],
      "metadata": {
        "id": "FQDh1d8i6ZRV"
      }
    },
    {
      "cell_type": "code",
      "source": [
        "import random\n",
        "\n",
        "class AVLNode:\n",
        "\n",
        "    def __init__(self, item):\n",
        "        self.item = item\n",
        "        self.left = None\n",
        "        self.right = None\n",
        "        self.height = 1\n",
        "\n",
        "    def display(self):\n",
        "        lines, *_ = self._display_aux()\n",
        "        for line in lines:\n",
        "            print(line)\n",
        "\n",
        "    def _display_aux(self):\n",
        "        \"\"\"Returns list of strings, width, height, and horizontal coordinate of the root.\"\"\"\n",
        "        # No child.\n",
        "        if self.right is None and self.left is None:\n",
        "            line = '%s' % self.item\n",
        "            width = len(line)\n",
        "            height = 1\n",
        "            middle = width // 2\n",
        "            return [line], width, height, middle\n",
        "\n",
        "        # Only left child.\n",
        "        if self.right is None:\n",
        "            lines, n, p, x = self.left._display_aux()\n",
        "            s = '%s' % self.item\n",
        "            u = len(s)\n",
        "            first_line = (x + 1) * ' ' + (n - x - 1) * '_' + s\n",
        "            second_line = x * ' ' + '/' + (n - x - 1 + u) * ' '\n",
        "            shifted_lines = [line + u * ' ' for line in lines]\n",
        "            return [first_line, second_line] + shifted_lines, n + u, p + 2, n + u // 2\n",
        "\n",
        "        # Only right child.\n",
        "        if self.left is None:\n",
        "            lines, n, p, x = self.right._display_aux()\n",
        "            s = '%s' % self.item\n",
        "            u = len(s)\n",
        "            first_line = s + x * '_' + (n - x) * ' '\n",
        "            second_line = (u + x) * ' ' + '\\\\' + (n - x - 1) * ' '\n",
        "            shifted_lines = [u * ' ' + line for line in lines]\n",
        "            return [first_line, second_line] + shifted_lines, n + u, p + 2, u // 2\n",
        "\n",
        "        # Two children.\n",
        "        left, n, p, x = self.left._display_aux()\n",
        "        right, m, q, y = self.right._display_aux()\n",
        "        s = '%s' % self.item\n",
        "        u = len(s)\n",
        "        first_line = (x + 1) * ' ' + (n - x - 1) * '_' + s + y * '_' + (m - y) * ' '\n",
        "        second_line = x * ' ' + '/' + (n - x - 1 + u + y) * ' ' + '\\\\' + (m - y - 1) * ' '\n",
        "        if p < q:\n",
        "            left += [n * ' '] * (q - p)\n",
        "        elif q < p:\n",
        "            right += [m * ' '] * (p - q)\n",
        "        zipped_lines = zip(left, right)\n",
        "        lines = [first_line, second_line] + [a + u * ' ' + b for a, b in zipped_lines]\n",
        "        return lines, n + m + u, max(p, q) + 2, n + u // 2\n",
        "\n",
        "class AVLTree:\n",
        "\n",
        "    def insert(self, root, val):\n",
        "\n",
        "        if not root:\n",
        "            return AVLNode(val)\n",
        "        elif val < root.item:\n",
        "            root.left = self.insert(root.left, val)\n",
        "        else:\n",
        "            root.right = self.insert(root.right, val)\n",
        "\n",
        "        root.height = 1 + max(self.get_height(root.right), self.get_height(root.left))\n",
        "\n",
        "        balance = self.get_balance(root)\n",
        "\n",
        "        if balance < -1 and val < root.left.item:\n",
        "            return self.rotateRight(root)\n",
        "        elif balance < -1 and val > root.left.item:\n",
        "            root.left = self.rotateLeft(root.left)\n",
        "            return self.rotateRight(root)\n",
        "        elif balance > 1 and val > root.right.item:\n",
        "            return self.rotateLeft(root)\n",
        "        elif balance > 1 and val < root.right.item:\n",
        "            root.right = self.rotateRight(root.right)\n",
        "            return self.rotateLeft(root)\n",
        "\n",
        "        return root\n",
        "\n",
        "    def search(self, root, val):\n",
        "\n",
        "        if root == None:\n",
        "            return False\n",
        "        elif root.item == val:\n",
        "            return True\n",
        "        elif root.item < val:\n",
        "            return self.search(root.right, val)\n",
        "        else:\n",
        "            return self.search(root.left, val)\n",
        "\n",
        "    def get_height(self, root):\n",
        "        if root == None:\n",
        "            return 0\n",
        "        else:\n",
        "            return 1 + max(self.get_height(root.right), self.get_height(root.left))\n",
        "\n",
        "    def get_balance(self, root):\n",
        "        if root == None:\n",
        "            return 0\n",
        "        return self.get_height(root.right) - self.get_height(root.left)\n",
        "\n",
        "    def rotateLeft(self, root):\n",
        "        child = root.right\n",
        "        root.right = child.left\n",
        "        child.left = root\n",
        "\n",
        "        child.height = 1 + max(self.get_height(child.left), self.get_height(child.right))\n",
        "        root.height = 1 + max(self.get_height(root.left), self.get_height(root.right))\n",
        "\n",
        "        return child\n",
        "\n",
        "    def rotateRight(self, root):\n",
        "        child = root.left\n",
        "        root.left = child.right\n",
        "        child.right = root\n",
        "\n",
        "        child.height = 1 + max(self.get_height(child.left), self.get_height(child.right))\n",
        "        root.height = 1 + max(self.get_height(root.left), self.get_height(root.right))\n",
        "\n",
        "        return child\n",
        "\n",
        "    def delete(self, root, val):\n",
        "\n",
        "        if root == None:\n",
        "            return root\n",
        "        elif val < root.item:\n",
        "            root.left = self.delete(root.left, val)\n",
        "        elif val > root.item:\n",
        "            root.right = self.delete(root.right, val)\n",
        "\n",
        "        else:\n",
        "            if root.right == None:\n",
        "                temp = root.left\n",
        "                root = None\n",
        "                return temp\n",
        "            elif root.left == None:\n",
        "                temp = root.right\n",
        "                root = None\n",
        "                return temp\n",
        "\n",
        "            new_root = self.get_minimum(root.right)\n",
        "            root.item = new_root.item\n",
        "            root.right = self.delete(root.right, new_root.item)\n",
        "\n",
        "        root.height = 1 + max(self.get_height(root.left), self.get_height(root.right))\n",
        "\n",
        "        balance = self.get_balance(root)\n",
        "\n",
        "        if balance < -1 and self.get_balance(root.left) <= 0:\n",
        "            return self.rotateRight(root)\n",
        "        if balance < -1 and self.get_balance(root.left) > 0:\n",
        "            root.left = self.rotateLeft(root.left)\n",
        "            return self.rotateRight(root)\n",
        "        if balance > 1 and self.get_balance(root.right) >= 0:\n",
        "            return self.rotateLeft(root)\n",
        "        if balance > 1 and self.get_balance(root.right) < 0:\n",
        "            root.right = self.rotateRight(root.right)\n",
        "            return self.rotateLeft(root)\n",
        "\n",
        "        return root\n",
        "\n",
        "\n",
        "\n",
        "    def get_minimum(self, root):\n",
        "        if root.left == None:\n",
        "            return root\n",
        "        else:\n",
        "            return self.get_minimum(root.left)\n",
        "\n",
        "import re\n",
        "\n",
        "def main():\n",
        "    num = input(\"Enter the first number: \")\n",
        "    root = AVLNode(num)\n",
        "    tree = AVLTree()\n",
        "    root.display()\n",
        "    while True:\n",
        "        num = input(\"Enter command: \")\n",
        "        if num == 'bye':\n",
        "            break\n",
        "        else:\n",
        "            m = re.search('(\\w+)\\s+(\\d+)', num)\n",
        "            command = m.group(1)\n",
        "            number = m.group(2)\n",
        "        if command == 'insert':\n",
        "            root = tree.insert(root, number)\n",
        "            root.display()\n",
        "        elif command == 'delete':\n",
        "            root = tree.delete(root, number)\n",
        "            root.display()\n",
        "        else:\n",
        "            print(\"I don't understand \", command)\n",
        "\n",
        "\n",
        "if __name__ == \"__main__\":\n",
        "    main()"
      ],
      "metadata": {
        "colab": {
          "base_uri": "https://localhost:8080/"
        },
        "id": "KTpD_SzT6ydD",
        "outputId": "eff93016-e431-4902-90ad-4c2d26d1d80a"
      },
      "execution_count": null,
      "outputs": [
        {
          "name": "stdout",
          "output_type": "stream",
          "text": [
            "Enter the first number: 5\n",
            "5\n",
            "Enter command: insert 6\n",
            "5 \n",
            " \\\n",
            " 6\n",
            "Enter command: insert 1\n",
            " 5 \n",
            "/ \\\n",
            "1 6\n",
            "Enter command: insert 15\n",
            " __5 \n",
            "/   \\\n",
            "1_  6\n",
            "  \\  \n",
            " 15  \n",
            "Enter command: insert 29\n",
            "   __5 \n",
            "  /   \\\n",
            " 15_  6\n",
            "/   \\  \n",
            "1  29  \n",
            "Enter command: insert 9\n",
            "   __5  \n",
            "  /   \\ \n",
            " 15_  6 \n",
            "/   \\  \\\n",
            "1  29  9\n",
            "Enter command: bye\n"
          ]
        }
      ]
    }
  ]
}
{
  "nbformat": 4,
  "nbformat_minor": 0,
  "metadata": {
    "colab": {
      "provenance": []
    },
    "kernelspec": {
      "name": "python3",
      "display_name": "Python 3"
    },
    "language_info": {
      "name": "python"
    }
  },
  "cells": [
    {
      "cell_type": "markdown",
      "source": [
        "Problem 1\n",
        "---\n",
        "Write a program that translates a letter grade into a number grade. Letter grades are A, B, C, D, and F, possibly followed by + or -. Their numeric values are 4, 3, 2, 1, and 0. There is no F+ or F -. A + increases the numeric value by 0.3, a - decreases it by 0.3. However, an A+ has value 4.0."
      ],
      "metadata": {
        "id": "7SfeaiGUH1mg"
      }
    },
    {
      "cell_type": "code",
      "execution_count": null,
      "metadata": {
        "colab": {
          "base_uri": "https://localhost:8080/",
          "height": 35
        },
        "id": "KNuOWh7_HxvB",
        "outputId": "05a8f930-5ad8-4ad0-9436-47a7d66197e8"
      },
      "outputs": [
        {
          "output_type": "execute_result",
          "data": {
            "text/plain": [
              "'A'"
            ],
            "application/vnd.google.colaboratory.intrinsic+json": {
              "type": "string"
            }
          },
          "metadata": {},
          "execution_count": 6
        }
      ],
      "source": [
        "def letter(grade):\n",
        "  if grade > 4:\n",
        "    return \"number too big\"\n",
        "  elif grade >= 3.85:\n",
        "    return \"A\"\n",
        "  elif grade > 3.5:\n",
        "    return \"A-\"\n",
        "  elif grade > 3.15:\n",
        "    return \"B+\"\n",
        "  else:\n",
        "    return \"you do the rest.\"\n",
        "\n",
        "#letter(3.89)"
      ]
    },
    {
      "cell_type": "markdown",
      "source": [
        "Problem 2: Use dictionaries to implement your matrices\n",
        "---\n",
        "If we are working with $n$ as the size of the magic\n",
        "square then the numbers from $1$ to $n^2$ will have to be\n",
        "placed in the matrix. The expected sum for the magic\n",
        "square will be $\\frac{n^2 (n^2 + 1)}{2n} = \\frac{n(n^2+1)}\n",
        "{2}$ so for $n = 3$ that sum is: $15$.\n"
      ],
      "metadata": {
        "id": "XhyBuE5nIyQF"
      }
    },
    {
      "cell_type": "code",
      "source": [
        "import random\n",
        "\n",
        "def magic(n):\n",
        "  m = []\n",
        "  for i in range(n):\n",
        "    m.append([0] * n)\n",
        "  for k in range(1, n * n, 1):\n",
        "    i = random.randrange(n)\n",
        "    j = random.randrange(n)\n",
        "    m[i][j] = k\n",
        "  return m\n",
        "\n",
        "def show(m):\n",
        "  for i in range(len(m)):\n",
        "    for j in range(len(m)):\n",
        "      print((\"   \" + str(m[i][j]))[-3:], end = ' ')\n",
        "    print()\n",
        "\n",
        "n = int(input(\"Enter size of matrix: \"))\n",
        "if n%2 == 1:\n",
        "  l = magic(n)\n",
        "  show (l)\n",
        "else:\n",
        "  print(\"This is not a valid magic square dimension\")"
      ],
      "metadata": {
        "colab": {
          "base_uri": "https://localhost:8080/"
        },
        "id": "JQ5af1O5I1Ko",
        "outputId": "d5b12e80-8ede-4af2-aad9-e7cba1e3b260"
      },
      "execution_count": null,
      "outputs": [
        {
          "output_type": "stream",
          "name": "stdout",
          "text": [
            "Enter size of matrix: 5\n",
            "  3   0  24  22  10 \n",
            "  0  15   0  23   0 \n",
            "  4   5   0  20  11 \n",
            "  8  19   0   6   2 \n",
            "  0  18  17   0   0 \n"
          ]
        }
      ]
    },
    {
      "cell_type": "markdown",
      "source": [
        "Problem 3: List Comprehension to Find Top Earners\n",
        "---\n",
        "The solution with fewer lines allows the reader to grasp\n",
        "the meaning of code faster.\n",
        "Creates a simple tuple for context variables k and v and ensures that context\n",
        "variable k iterates over all dictionary keys and that context variable v iter-\n",
        "ates over the associated values for context variable k—but only if the value\n",
        "of context variable v is larger than or equal to 100,000 as ensured by the\n",
        "if condition.\n"
      ],
      "metadata": {
        "id": "u6RsZpdsKPvh"
      }
    },
    {
      "cell_type": "code",
      "source": [
        "#Data\n",
        "employees = {'Alice' : 100000,\n",
        "             'Bob' : 99817,\n",
        "             'Carol' : 122908,\n",
        "             'Frank' : 88123,\n",
        "             'Eve' : 93121}\n",
        "\n",
        "## One-Liner\n",
        "top_earners = [(k, v) for k, v in employees.items() if v >= 100000]\n",
        "\n",
        "## Result\n",
        "print(top_earners)"
      ],
      "metadata": {
        "colab": {
          "base_uri": "https://localhost:8080/"
        },
        "id": "eSE4cJV9LC9R",
        "outputId": "bd845990-d69d-4f5c-d4aa-16d5b059b2f5"
      },
      "execution_count": null,
      "outputs": [
        {
          "output_type": "stream",
          "name": "stdout",
          "text": [
            "[('Alice', 100000), ('Carol', 122908)]\n"
          ]
        }
      ]
    },
    {
      "cell_type": "markdown",
      "source": [
        "Problem 4: Using List Comprehension to Find Words with High Information Value\n",
        "---\n",
        "Search engines rank textual information according to its relevance to a\n",
        "user query.\n",
        "A simple heuristic is to filter out all words with three characters or less, given a multiline string, create\n",
        "a list of lists—each consisting of all the words in a line that have more than\n",
        "three characters."
      ],
      "metadata": {
        "id": "mx_I0IRBKXhv"
      }
    },
    {
      "cell_type": "code",
      "source": [
        "## Data\n",
        "text = '''\n",
        "Call me Ishmael. Some years ago - never mind how long precisely - having\n",
        "little or no money in my purse, and nothing particular to interest me\n",
        "on shore, I thought I would sail about a little and see the watery part\n",
        "of the world. It is a way I have of driving off the spleen, and regulating\n",
        "the circulation. - Moby Dick'''\n",
        "\n",
        "## One-Liner\n",
        "w = [[x for x in line.split() if len(x)>3] for line in text.split('\\n')]\n",
        "\n",
        "## Result\n",
        "print(w)"
      ],
      "metadata": {
        "colab": {
          "base_uri": "https://localhost:8080/"
        },
        "id": "zvPOyzDgLDoK",
        "outputId": "c28f95aa-4fe4-41e6-949a-d4c7710dfc5f"
      },
      "execution_count": null,
      "outputs": [
        {
          "output_type": "stream",
          "name": "stdout",
          "text": [
            "[[], ['Call', 'Ishmael.', 'Some', 'years', 'never', 'mind', 'long', 'precisely', 'having'], ['little', 'money', 'purse,', 'nothing', 'particular', 'interest'], ['shore,', 'thought', 'would', 'sail', 'about', 'little', 'watery', 'part'], ['world.', 'have', 'driving', 'spleen,', 'regulating'], ['circulation.', 'Moby', 'Dick']]\n"
          ]
        }
      ]
    },
    {
      "cell_type": "markdown",
      "source": [
        "Problem 5: Reading a File\n",
        "---\n",
        "Read a file and store the result as a list of strings and remove any leading and trailing whitespaces from the lines.\n",
        "Reading a file is straightforward but usually takes a few lines of code to accomplish.\n",
        "File access is slow. For efficiency reasons, Python avoids writing every single bit independently. Instead, it waits until the buffer has filled with enough bytes and then flushes the whole buffer at once into the file."
      ],
      "metadata": {
        "id": "J7IuOw6wKcCW"
      }
    },
    {
      "cell_type": "code",
      "source": [
        "#The code assumes that you’ve stored this code snippet in a file named\n",
        "#readFileDefault.py\n",
        "\n",
        "print([line.strip() for line in open(\"readFile.py\")])"
      ],
      "metadata": {
        "colab": {
          "base_uri": "https://localhost:8080/"
        },
        "id": "3KMMRO7wLFLI",
        "outputId": "57ee7e27-b488-4cf5-9426-783bd9c843ac"
      },
      "execution_count": null,
      "outputs": [
        {
          "output_type": "stream",
          "name": "stdout",
          "text": [
            "['filename = \"readFileDefault.py\" # this code', 'f = open(filename)', 'lines = []', 'for line in f:', 'lines.append(line.strip())', 'print(lines)', '\"\"\"', '[\\'filename = \"readFileDefault.py\" # this code\\',', \"'',\", \"'f = open(filename)',\", \"'lines = []',\", \"'for line in f:',\", \"'lines.append(line.strip())',\", \"'',\", \"'print(lines)']\", '\"\"\"']\n"
          ]
        }
      ]
    },
    {
      "cell_type": "markdown",
      "source": [
        "Problem 6: Using Lambda and Map Functions\n",
        "---\n",
        "The lambda and map() functions are valuable tools to define a simple function with a return value. This poses\n",
        "a practical restriction to lambda functions, because unlike standard func-\n",
        "tions, they are not designed to execute code without returning an object\n",
        "value to the calling environment.\n",
        "The map() is often inconvenient and reduces readability."
      ],
      "metadata": {
        "id": "7XJQJSjPKhn2"
      }
    },
    {
      "cell_type": "code",
      "source": [
        "## Data\n",
        "txt = ['lambda functions are anonymous functions.',\n",
        "'anonymous functions dont have a name.',\n",
        "'functions are objects in Python.']\n",
        "\n",
        "## One-Liner\n",
        "mark = map(lambda s: (True, s) if 'anonymous' in s else (False, s), txt)\n",
        "\n",
        "## Result\n",
        "print(list(mark))"
      ],
      "metadata": {
        "colab": {
          "base_uri": "https://localhost:8080/"
        },
        "id": "6gYMUEUYLGGv",
        "outputId": "1421035a-c4ff-4055-fbef-d76cbe7a4f2f"
      },
      "execution_count": null,
      "outputs": [
        {
          "output_type": "stream",
          "name": "stdout",
          "text": [
            "[(True, 'lambda functions are anonymous functions.'), (True, 'anonymous functions dont have a name.'), (False, 'functions are objects in Python.')]\n"
          ]
        }
      ]
    },
    {
      "cell_type": "markdown",
      "source": [
        "Problem 7: Using Slicing to Extract Matching Substring Environments\n",
        "---\n",
        "The redundant function call causes unnecessary computations—a disadvantage that could easily be fixed by adding a helper variable to temporarily store the result of the first function call. Then reuse the result from the first function call by accessing the value in\n",
        "the helper variable. With one line of code cannot define and reuse a helper variable to store the index of the first occurrence of the query."
      ],
      "metadata": {
        "id": "KgBYSNl9KpMC"
      }
    },
    {
      "cell_type": "code",
      "source": [
        "## Data\n",
        "letters_amazon = '''\n",
        "We spent several years building our own database engine,\n",
        "Amazon Aurora, a fully-managed MySQL and PostgreSQL-compatible\n",
        "service with the same or better durability and availability as\n",
        "the commercial engines, but at one-tenth of the cost. We were\n",
        "not surprised when this worked.\n",
        "'''\n",
        "## One-Liner\n",
        "find = lambda x, q: x[x.find(q)-18:x.find(q)+18] if q in x else -1\n",
        "\n",
        "## Result\n",
        "print(find(letters_amazon, 'SQL'))"
      ],
      "metadata": {
        "colab": {
          "base_uri": "https://localhost:8080/"
        },
        "id": "MokFwA4ZLJNe",
        "outputId": "f61cb81d-ef22-4210-d2f1-6077e725dc81"
      },
      "execution_count": null,
      "outputs": [
        {
          "output_type": "stream",
          "name": "stdout",
          "text": [
            "a fully-managed MySQL and PostgreSQL\n"
          ]
        }
      ]
    },
    {
      "cell_type": "markdown",
      "source": [
        "Problem 8: Combining List Comprehension and Slicing\n",
        "---\n",
        "The data set  can be huge, and the model\n",
        "training can take a very long time on the computer.\n",
        "List comprehension allows to iterate over each list element and modify it subsequently.\n",
        "Slicing allows to select every other element from a given list quickly and it lends itself naturally to simple filtering operations."
      ],
      "metadata": {
        "id": "4cjqDG8kKt5C"
      }
    },
    {
      "cell_type": "code",
      "source": [
        "## Data (daily stock prices ($))\n",
        "price = [[9.9, 9.8, 9.8, 9.4, 9.5, 9.7],\n",
        "[9.5, 9.4, 9.4, 9.3, 9.2, 9.1],\n",
        "[8.4, 7.9, 7.9, 8.1, 8.0, 8.0],\n",
        "[7.1, 5.9, 4.8, 4.8, 4.7, 3.9]]\n",
        "\n",
        "## One-Liner\n",
        "sample = [line[::2] for line in price]\n",
        "\n",
        "## Result\n",
        "print(sample)"
      ],
      "metadata": {
        "colab": {
          "base_uri": "https://localhost:8080/"
        },
        "id": "LM-wA7KjLKT0",
        "outputId": "3e3c0b32-8bce-459b-b3fb-df9c2ceed605"
      },
      "execution_count": null,
      "outputs": [
        {
          "output_type": "stream",
          "name": "stdout",
          "text": [
            "[[9.9, 9.8, 9.5], [9.5, 9.4, 9.2], [8.4, 7.9, 8.0], [7.1, 4.8, 4.7]]\n"
          ]
        }
      ]
    },
    {
      "cell_type": "markdown",
      "source": [
        "Problem 9: Using Slice Assignment to Correct Corrupted Strings\n",
        "---\n",
        "Slice assignments use slicing notation on the left-hand side of an assignment\n",
        "operation to modify a subsequence of the original sequence.\n",
        "After loading the gathered browser data into a large list of strings, but because of a bug in the tracking algorithm, every\n",
        "second string is corrupted and needs to be replaced by the correct string."
      ],
      "metadata": {
        "id": "WmTFaNxUKyeF"
      }
    },
    {
      "cell_type": "code",
      "source": [
        "## Data\n",
        "visitors = ['Firefox', 'corrupted', 'Chrome', 'corrupted',\n",
        "'Safari', 'corrupted', 'Safari', 'corrupted',\n",
        "'Chrome', 'corrupted', 'Firefox', 'corrupted']\n",
        "\n",
        "## One-Liner\n",
        "visitors[1::2] = visitors[::2]\n",
        "\n",
        "## Result\n",
        "print(visitors)"
      ],
      "metadata": {
        "colab": {
          "base_uri": "https://localhost:8080/"
        },
        "id": "mJbqTyjeLLEe",
        "outputId": "cf577437-2658-4234-de60-432566bd9728"
      },
      "execution_count": null,
      "outputs": [
        {
          "output_type": "stream",
          "name": "stdout",
          "text": [
            "['Firefox', 'Firefox', 'Chrome', 'Chrome', 'Safari', 'Safari', 'Safari', 'Safari', 'Chrome', 'Chrome', 'Firefox', 'Firefox']\n"
          ]
        }
      ]
    },
    {
      "cell_type": "markdown",
      "source": [
        "Problem 10: Analyzing Cardiac Health Data with List Concatenation\n",
        "---\n",
        "How to repeatedly copy smaller lists and merge them into a larger list to generate cyclic data. The problem that can appear is that the first and the last two data values in the list are redundan.\n",
        "First, clean the data by removing the first and last two values from the list.\n",
        "Second, create a new list with expected future heart rates by copying the cardiac cycle to future time instances."
      ],
      "metadata": {
        "id": "6h8dn4p-K2Hf"
      }
    },
    {
      "cell_type": "code",
      "source": [
        "## Dependencies\n",
        "import matplotlib.pyplot as plt\n",
        "\n",
        "## Data\n",
        "cardiac_cycle = [62, 60, 62, 64, 68, 77, 80, 76, 71, 66, 61, 60, 62]\n",
        "\n",
        "## One-Liner\n",
        "expected_cycles = cardiac_cycle[1:-2] * 10\n",
        "\n",
        "## Result\n",
        "plt.plot(expected_cycles)\n",
        "plt.show()"
      ],
      "metadata": {
        "colab": {
          "base_uri": "https://localhost:8080/",
          "height": 430
        },
        "id": "VfhMgzKHLLyN",
        "outputId": "cdeaf191-716d-45f2-9aa2-8a58cf987b60"
      },
      "execution_count": null,
      "outputs": [
        {
          "output_type": "display_data",
          "data": {
            "text/plain": [
              "<Figure size 640x480 with 1 Axes>"
            ],
            "image/png": "[encoded data removed]"
          },
          "metadata": {}
        }
      ]
    },
    {
      "cell_type": "markdown",
      "source": [
        "Problem 11: Using Generator Expressions to Find Companies That Pay Below Minimum Wage\n",
        "---\n",
        "Python’s any() function takes an iterable, such as a list, and returns True if at least one element of the iterable evaluates to True.\n",
        "Generator expressions work exactly like list comprehensions, but without creating an actual list in memory. The numbers\n",
        "are created on the fly, without storing them explicitly in a list.\n",
        "\n"
      ],
      "metadata": {
        "id": "7L_DtB_hK58Y"
      }
    },
    {
      "cell_type": "code",
      "source": [
        "## Data\n",
        "companies = {\n",
        "  'CoolCompany' : {'Alice' : 33, 'Bob' : 28, 'Frank' : 29},\n",
        "  'CheapCompany' : {'Ann' : 4, 'Lee' : 9, 'Chrisi' : 7},\n",
        "  'SosoCompany' : {'Esther' : 38, 'Cole' : 8, 'Paris' : 18}}\n",
        "\n",
        "## One-Liner\n",
        "illegal = [x for x in companies if any(y<9 for y in companies[x].values())]\n",
        "\n",
        "## Result\n",
        "print(illegal)"
      ],
      "metadata": {
        "colab": {
          "base_uri": "https://localhost:8080/"
        },
        "id": "N5SIrvToLMY7",
        "outputId": "dc3db492-021d-4409-9165-bb63053d96cd"
      },
      "execution_count": null,
      "outputs": [
        {
          "output_type": "stream",
          "name": "stdout",
          "text": [
            "['CheapCompany', 'SosoCompany']\n"
          ]
        }
      ]
    },
    {
      "cell_type": "markdown",
      "source": [
        "Problem 12: Formatting Databases with the zip() Function\n",
        "---\n",
        "The zip() function takes iterables iter_1, iter_2, ..., iter_n and aggregates\n",
        "them into a single iterable by aligning the corresponding i-th values into a\n",
        "single tuple. The result is an iterable of tuples. Assign the column names to the rows and, thus, create a list of dictionaries. Each dictionary assigns the column names to the respective data values."
      ],
      "metadata": {
        "id": "30HcFMyjK96r"
      }
    },
    {
      "cell_type": "code",
      "source": [
        "## Data\n",
        "column_names = ['name', 'salary', 'job']\n",
        "db_rows = [('Alice', 180000, 'data scientist'),\n",
        "           ('Bob', 99000, 'mid-level manager'),\n",
        "           ('Frank', 87000, 'CEO')]\n",
        "\n",
        "## One-Liner\n",
        "db = [dict(zip(column_names, row)) for row in db_rows]\n",
        "\n",
        "## Result\n",
        "print(db)"
      ],
      "metadata": {
        "colab": {
          "base_uri": "https://localhost:8080/"
        },
        "id": "uWU301pDLMw5",
        "outputId": "47cfef85-e962-4eab-9941-a3b246522898"
      },
      "execution_count": null,
      "outputs": [
        {
          "output_type": "stream",
          "name": "stdout",
          "text": [
            "[{'name': 'Alice', 'salary': 180000, 'job': 'data scientist'}, {'name': 'Bob', 'salary': 99000, 'job': 'mid-level manager'}, {'name': 'Frank', 'salary': 87000, 'job': 'CEO'}]\n"
          ]
        }
      ]
    }
  ]
}
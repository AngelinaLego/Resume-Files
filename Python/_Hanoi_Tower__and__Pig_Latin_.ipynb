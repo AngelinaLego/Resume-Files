{
  "nbformat": 4,
  "nbformat_minor": 0,
  "metadata": {
    "colab": {
      "provenance": []
    },
    "kernelspec": {
      "name": "python3",
      "display_name": "Python 3"
    },
    "language_info": {
      "name": "python"
    }
  },
  "cells": [
    {
      "cell_type": "code",
      "execution_count": null,
      "metadata": {
        "colab": {
          "base_uri": "https://localhost:8080/"
        },
        "id": "hW72SQCTzZDJ",
        "outputId": "b6d657bb-a0dd-4f3f-a0c1-669100ad14c0"
      },
      "outputs": [
        {
          "output_type": "stream",
          "name": "stdout",
          "text": [
            "move disk from nick to jack\n",
            "move disk from nick to jenefer\n",
            "move disk from jack to jenefer\n",
            "move disk from nick to jack\n",
            "move disk from jenefer to nick\n",
            "move disk from jenefer to jack\n",
            "move disk from nick to jack\n",
            "move disk from nick to jenefer\n",
            "move disk from jack to jenefer\n",
            "move disk from jack to nick\n",
            "move disk from jenefer to nick\n",
            "move disk from jack to jenefer\n",
            "move disk from nick to jack\n",
            "move disk from nick to jenefer\n",
            "move disk from jack to jenefer\n"
          ]
        }
      ],
      "source": [
        "#the tower of hanoi\n",
        "\n",
        "def hanoi(n, source, target, using):\n",
        "  if n == 1:\n",
        "    print(\"move disk from\", source, \"to\", target)\n",
        "  else:\n",
        "    hanoi(n - 1, source, using, target) # pleaces n-1 onto using (which is a peq)\n",
        "    print(\"move disk from\", source, \"to\", target)\n",
        "    hanoi(n - 1, using, target, source)\n",
        "\n",
        "hanoi(4, \"nick\", \"jenefer\", \"jack\")"
      ]
    },
    {
      "cell_type": "code",
      "source": [
        "#QuickSort:either the one liner\n",
        "q = lambda l:q([x for x in l[1:] if x <= l[0]]) + [l[0]] + q([x for x in l if x > l[0]]) if l else []\n",
        "print(q([3, 5, 1, 6, 2, 8, 4]))\n",
        "\n",
        "\n",
        "Explanation more than one liner:\n",
        "def qs(lon):\n",
        "  if lon:\n",
        "    a = [x for x in lon[1:] if x <= lon[0]]\n",
        "    b = [lon[0]] #picl a number\n",
        "    c = [x for x in lon if x > lon[0]]\n",
        "    return qs(a) + b + qs(c)\n",
        "  else:\n",
        "    return lon\n",
        "print(qs([4, 5, 2, 3, 6, 7, 1]))"
      ],
      "metadata": {
        "id": "SfhvY12c1GrS",
        "colab": {
          "base_uri": "https://localhost:8080/"
        },
        "outputId": "9f421aaf-ef45-4a53-dcbf-1df090ef128e"
      },
      "execution_count": null,
      "outputs": [
        {
          "output_type": "stream",
          "name": "stdout",
          "text": [
            "[1, 2, 3, 4, 5, 6, 8]\n",
            "[1, 2, 3, 4, 5, 6, 7]\n"
          ]
        }
      ]
    },
    {
      "cell_type": "code",
      "source": [
        "#Pig Latin(regular expressions)\n",
        "\n",
        "import re\n",
        "\n",
        "text = \"My phone number is 123-456-7890 and (987) 654-3210\"\n",
        "\n",
        "pattern = r\"\\d{3}-\\d{3}-\\d{4}\"\n",
        "matches = re.findall(pattern, text)\n",
        "print(matches)"
      ],
      "metadata": {
        "colab": {
          "base_uri": "https://localhost:8080/"
        },
        "id": "9KLguH4JSs4z",
        "outputId": "d046001b-73f4-4968-c4a3-f77cf77c5b48"
      },
      "execution_count": null,
      "outputs": [
        {
          "output_type": "stream",
          "name": "stdout",
          "text": [
            "['123-456-7890']\n"
          ]
        }
      ]
    },
    {
      "cell_type": "code",
      "source": [
        "sentence = \"I love pig latin and regular expression! This will be fun\"\n",
        "\n",
        "new_sentence = []\n",
        "\n",
        "for word in sentence.split(' '):\n",
        "  new = ''\n",
        "  pattern1 = r'(^[^aeiouAEIOu) ([aeiouAEIOU]) (\\w*)' # Consonent + Vowel case\n",
        "  pattern2 = r'(^[aeiouAEIOU]{2,}) (\\w*)' # Two consonent case\n",
        "  pattern3 = r'(^[aeiouAEIOU]) (\\w*)' # Starts with a vowel case\n",
        "\n",
        "    #Happy = 'H' (1) a (2) ppy (3)\n",
        "\n",
        "  if re.match(pattern1,word):\n",
        "    new = re.sub(pattern1, r'\\2\\3\\1' + 'ay', word)\n",
        "  elif re.match(pattern2, word):\n",
        "    new = re.sub(pattern2, r'\\2\\1' + 'ay', word)\n",
        "  else:\n",
        "    new = re.sub(pattern3, r'1\\2' + 'ay', word)\n",
        "  new_sentence.append(new)\n",
        "\n",
        "print(new_sentence)\n",
        "new_sentence = ' '.join(new_sentence)\n",
        "print(sentence)\n",
        "print(new_sentence)\n"
      ],
      "metadata": {
        "colab": {
          "base_uri": "https://localhost:8080/"
        },
        "id": "2XE0LBksS3yD",
        "outputId": "71a090f1-62f1-43fc-845c-7727023227ac"
      },
      "execution_count": null,
      "outputs": [
        {
          "output_type": "stream",
          "name": "stdout",
          "text": [
            "['I', 'love', 'pig', 'latin', 'and', 'regular', 'expression!', 'This', 'will', 'be', 'fun']\n",
            "I love pig latin and regular expression! This will be fun\n",
            "I love pig latin and regular expression! This will be fun\n"
          ]
        }
      ]
    }
  ]
}
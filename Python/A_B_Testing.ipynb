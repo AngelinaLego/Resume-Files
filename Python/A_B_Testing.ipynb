{
  "nbformat": 4,
  "nbformat_minor": 0,
  "metadata": {
    "colab": {
      "provenance": []
    },
    "kernelspec": {
      "name": "python3",
      "display_name": "Python 3"
    },
    "language_info": {
      "name": "python"
    }
  },
  "cells": [
    {
      "cell_type": "markdown",
      "source": [
        "\n",
        "\n",
        "A/B Testing\n",
        "\n",
        "\n",
        "---"
      ],
      "metadata": {
        "id": "pS-co6JSrQE2"
      }
    },
    {
      "cell_type": "code",
      "execution_count": null,
      "metadata": {
        "id": "ZBiDDuHdrNOx"
      },
      "outputs": [],
      "source": [
        "import pandas as pd\n",
        "desktop=pd.read_csv('desktop.csv')\n",
        "laptop=pd.read_csv('laptop.csv')"
      ]
    },
    {
      "cell_type": "code",
      "source": [
        "#to see the first five rows of each dataset\n",
        "\n",
        "print(desktop.head())\n",
        "print(laptop.head())"
      ],
      "metadata": {
        "colab": {
          "base_uri": "https://localhost:8080/"
        },
        "id": "l5tZIzRXsTBx",
        "outputId": "32069405-e471-4dcf-b46f-e7592c927250"
      },
      "execution_count": null,
      "outputs": [
        {
          "output_type": "stream",
          "name": "stdout",
          "text": [
            "   userid  spending  age  visits\n",
            "0       1      1250   31     126\n",
            "1       2       900   27       5\n",
            "2       3         0   30     459\n",
            "3       4      2890   22      18\n",
            "4       5      1460   38      20\n",
            "   userid  spending  age  visits\n",
            "0      31      1499   32      12\n",
            "1      32       799   23      40\n",
            "2      33      1200   45      22\n",
            "3      34         0   59     126\n",
            "4      35      1350   17      85\n"
          ]
        }
      ]
    },
    {
      "cell_type": "code",
      "source": [
        "# import the SciPy package’s stats module so we can use it for t-tests\n",
        "#print the results of three separate t-tests:\n",
        "#   one comparing the spending of desktop and laptop subscribers,\n",
        "#   one comparing the ages of desktop and laptop subscribers,\n",
        "#   and one comparing the number of recorded website visits of desktop and laptop subscribers.\n",
        "\n",
        "import scipy.stats\n",
        "print(scipy.stats.ttest_ind(desktop['spending'],laptop['spending']))\n",
        "print(scipy.stats.ttest_ind(desktop['age'],laptop['age']))\n",
        "print(scipy.stats.ttest_ind(desktop['visits'],laptop['visits']))\n",
        "\n",
        "#After determining that desktop subscribers are different from laptop subscribers,\n",
        "#we can conclude that we should send them different marketing emails."
      ],
      "metadata": {
        "colab": {
          "base_uri": "https://localhost:8080/"
        },
        "id": "Vac2njpKscV6",
        "outputId": "04b7dee3-1d1c-4605-810a-8e1e84d7d836"
      },
      "execution_count": null,
      "outputs": [
        {
          "output_type": "stream",
          "name": "stdout",
          "text": [
            "TtestResult(statistic=np.float64(-2.109853741030508), pvalue=np.float64(0.03919630411621095), df=np.float64(58.0))\n",
            "TtestResult(statistic=np.float64(-0.7101437106800108), pvalue=np.float64(0.4804606394128761), df=np.float64(58.0))\n",
            "TtestResult(statistic=np.float64(0.20626752311535543), pvalue=np.float64(0.8373043059847984), df=np.float64(58.0))\n"
          ]
        }
      ]
    },
    {
      "cell_type": "markdown",
      "source": [
        "A/B testing uses experiments to help businesses\n",
        "determine which practices will give them the greatest chances of success.\n",
        "\n",
        "It consists of a few steps:\n",
        "  1. experimental design\n",
        "  2. random assignment into treatment and control groups\n",
        "  3. careful measurement of outcomes\n",
        "  4. statistical comparison of outcomes between groups\n",
        "\n",
        "\n",
        "To do the statistical comparisons will be familiar, we use the t-tests\n",
        "While t-tests are a part of the A/B testing process, they are not the only part. A/B testing is a process for collecting new data, which can then be analyzed using tests like the t-test.\n",
        "\n",
        "---\n",
        "\n",
        "  Hypothesis 0 Changing the color of text in our emails from black to\n",
        "  blue will have no effect on revenues.\n",
        "\n",
        "  Hypothesis 1 Changing the color of text in our emails from black to\n",
        "  blue will lead to a change in revenues (either an increase or a decrease).\n",
        "\n",
        "---"
      ],
      "metadata": {
        "id": "k7XVCpHdtEyl"
      }
    },
    {
      "cell_type": "markdown",
      "source": [
        "Here, we import the NumPy package, giving it the alias np, so we can\n",
        "use its median() method. Then we simply take the median age of our group\n",
        "of desktop subscribers and create groupa, a subset of our desktop subscribers\n",
        "whose age is below or equal to the median age, and groupb, a subset of our\n",
        "desktop subscribers whose age is above the median age."
      ],
      "metadata": {
        "id": "5iLixzNtuX10"
      }
    },
    {
      "cell_type": "code",
      "source": [
        "import numpy as np\n",
        "medianage=np.median(desktop['age'])\n",
        "groupa=desktop.loc[desktop['age']<=medianage,:]\n",
        "groupb=desktop.loc[desktop['age']>medianage,:]"
      ],
      "metadata": {
        "id": "lTmQzVF9uJOQ"
      },
      "execution_count": null,
      "outputs": []
    },
    {
      "cell_type": "code",
      "source": [
        "#fabricated data that shows hypothetical outcomes for members of our two groups\n",
        "\n",
        "emailresults1=pd.read_csv('emailresults1.csv')\n",
        "print(emailresults1.head())"
      ],
      "metadata": {
        "colab": {
          "base_uri": "https://localhost:8080/"
        },
        "id": "LT8DBxoyugfP",
        "outputId": "e44b9ee4-4f5c-4745-c999-8dc6af9711df"
      },
      "execution_count": null,
      "outputs": [
        {
          "output_type": "stream",
          "name": "stdout",
          "text": [
            "   userid  revenue\n",
            "0       1      100\n",
            "1       2        0\n",
            "2       3       50\n",
            "3       4      550\n",
            "4       5      175\n"
          ]
        }
      ]
    },
    {
      "cell_type": "markdown",
      "source": [
        "---\n",
        "\n",
        "In this snippet, we use the pandas merge() method to combine our\n",
        "dataframes. We specify on='userid', meaning that we take the row of\n",
        "emailresults1 that corresponds to a particular userid and merge it with\n",
        "the row of groupa that corresponds to that same userid. The end result of\n",
        "using merge() is a dataframe in which every row corresponds to a particular user identified by their unique userid."
      ],
      "metadata": {
        "id": "FgN9RLQGu_ou"
      }
    },
    {
      "cell_type": "code",
      "source": [
        "groupa_withrevenue=groupa.merge(emailresults1,on='userid')\n",
        "groupb_withrevenue=groupb.merge(emailresults1,on='userid')"
      ],
      "metadata": {
        "id": "fUr3ppFau6i_"
      },
      "execution_count": null,
      "outputs": []
    },
    {
      "cell_type": "code",
      "source": [
        "#fter preparing our data, it’s simple to perform a t-test to check whether our groups are different.\n",
        "\n",
        "print(scipy.stats.ttest_ind(groupa_withrevenue['revenue'],groupb_withrevenue['revenue']))\n",
        "\n",
        "#The important part of this output is the pvalue variable, which tells us\n",
        "#the p-value of our test. We can see that the result says that p = 0.037, approximately"
      ],
      "metadata": {
        "colab": {
          "base_uri": "https://localhost:8080/"
        },
        "id": "_T_l4T5_vGKq",
        "outputId": "462d585a-ad1e-495a-fcb5-9c5fe6149914"
      },
      "execution_count": null,
      "outputs": [
        {
          "output_type": "stream",
          "name": "stdout",
          "text": [
            "TtestResult(statistic=np.float64(-2.186454851070545), pvalue=np.float64(0.03730073920038287), df=np.float64(28.0))\n"
          ]
        }
      ]
    },
    {
      "cell_type": "markdown",
      "source": [
        "---\n",
        "\n",
        "The output is 125.0. The average groupb customer has outspent the average groupa customer by $125.\n",
        "\n",
        "This difference is statistically significant, so we\n",
        "reject Hypothesis 0 in favor of Hypothesis 1, concluding (for now, at least)\n",
        "that the blue text in marketing emails leads to about $125 more in revenue\n",
        "per user than black text."
      ],
      "metadata": {
        "id": "nFHZd01ovYOX"
      }
    },
    {
      "cell_type": "code",
      "source": [
        "print(np.mean(groupb_withrevenue['revenue'])-np.mean(groupa_withrevenue['revenue']))"
      ],
      "metadata": {
        "colab": {
          "base_uri": "https://localhost:8080/"
        },
        "id": "WGV-Hw81vUWE",
        "outputId": "0eff4261-382f-4085-8f5f-df05e7e2b71b"
      },
      "execution_count": null,
      "outputs": [
        {
          "output_type": "stream",
          "name": "stdout",
          "text": [
            "125.0\n"
          ]
        }
      ]
    },
    {
      "cell_type": "markdown",
      "source": [
        "---\n",
        "\n",
        "This was an experiment.\n",
        "\n",
        "1. We split a population into two groups,\n",
        "2. Performed different actions on each group\n",
        "3. Compared the results.\n",
        "\n",
        "In the context of business, such an experiment is often called an\n",
        "A/B test. The A/B part of the name refers to the two groups, Group A and\n",
        "Group B, whose different responses to emails we compared. Every A/B\n",
        "test follows the same pattern we went through here: a split into two groups,\n",
        "application of a different treatment (for example, sending different emails)\n",
        "to each group, and statistical analysis to compare the groups’ outcomes and\n",
        "draw conclusions about which treatment is better.\n",
        "\n",
        "---\n",
        "\n",
        "Math Behind A/B Testing:\n",
        "\n",
        "E(A’s revenue with blk text) + E(effect of changing blk → blue on A) = E(A’s revenue with blue text)\n",
        "\n",
        "E(B’s revenue with blk text) + E(effect of changing blk → blue on B) = E(B’s revenue with blue text)\n",
        "\n",
        "---"
      ],
      "metadata": {
        "id": "gjL2smNbvvHd"
      }
    },
    {
      "cell_type": "markdown",
      "source": [
        "Perform an A/B test on our laptop subscriber list, but this time we’ll\n",
        "use randomization to select our groups to avoid having a confounded experimental design:\n",
        "\n",
        "In this snippet, we use the NumPy random.random() method to generate a\n",
        "column that consists of randomly generated 0s and 1s. We can interpret a 0 to\n",
        "mean that a user belongs to Group C, and a 1 to mean that a user belongs\n",
        "to group D. When we generate 0s and 1s randomly like this, the groups could\n",
        "end up with different sizes."
      ],
      "metadata": {
        "id": "ZTDlQUPwwTwn"
      }
    },
    {
      "cell_type": "code",
      "source": [
        "np.random.seed(18811015)\n",
        "laptop.loc[:,'groupassignment1']=1*(np.random.random(len(laptop.index))>0.5)\n",
        "groupc=laptop.loc[laptop['groupassignment1']==0,:].copy()\n",
        "groupd=laptop.loc[laptop['groupassignment1']==1,:].copy()"
      ],
      "metadata": {
        "id": "fR2WTtT7wPSa"
      },
      "execution_count": null,
      "outputs": []
    },
    {
      "cell_type": "code",
      "source": [
        "emailresults2=pd.read_csv('emailresults2.csv')\n",
        "\n",
        "\n",
        "#join our email results to our group dataframes\n",
        "groupc_withrevenue=groupc.merge(emailresults2,on='userid')\n",
        "groupd_withrevenue=groupd.merge(emailresults2,on='userid')"
      ],
      "metadata": {
        "id": "LAhCKaIXwh06"
      },
      "execution_count": null,
      "outputs": []
    },
    {
      "cell_type": "markdown",
      "source": [
        "We find that the p-value is less than 0.05, indicating that the difference\n",
        "between the groups is statistically significant. This time, our experiment\n",
        "isn’t confounded, because we used random assignment to ensure that the\n",
        "differences between groups are the result of our different emails, not the\n",
        "result of different characteristics of each group."
      ],
      "metadata": {
        "id": "QZ8q-UDRw6G3"
      }
    },
    {
      "cell_type": "code",
      "source": [
        "#use a t-test to check whether the revenue resulting\n",
        "# from Group C is different from the revenue we get from Group D\n",
        "\n",
        "print(scipy.stats.ttest_ind(groupc_withrevenue['revenue'],groupd_withrevenue['revenue']))"
      ],
      "metadata": {
        "colab": {
          "base_uri": "https://localhost:8080/"
        },
        "id": "gKJ-zuC5wxmR",
        "outputId": "edf89b2c-bd7f-4ee7-8437-f3f8ff2a5577"
      },
      "execution_count": null,
      "outputs": [
        {
          "output_type": "stream",
          "name": "stdout",
          "text": [
            "TtestResult(statistic=np.float64(-2.381320497676198), pvalue=np.float64(0.024288828555138562), df=np.float64(28.0))\n"
          ]
        }
      ]
    },
    {
      "cell_type": "markdown",
      "source": [
        "---\n",
        "\n",
        "Calculate the estimated effect here with subtraction: the mean rev-\n",
        "enue obtained from subjects in Group D minus the mean revenue obtained\n",
        "from subjects in Group C. The difference between mean revenue from\n",
        "Group C and mean revenue from Group D, about $260, is the size of the\n",
        "effect of our experiment."
      ],
      "metadata": {
        "id": "dzOgYa8JxApL"
      }
    },
    {
      "cell_type": "code",
      "source": [
        "print(np.mean(groupd_withrevenue['revenue'])-np.mean(groupc_withrevenue['revenue']))"
      ],
      "metadata": {
        "colab": {
          "base_uri": "https://localhost:8080/"
        },
        "id": "bWYaa0TdxARk",
        "outputId": "e3180465-deee-4db1-ee99-b9e24ade26b2"
      },
      "execution_count": null,
      "outputs": [
        {
          "output_type": "stream",
          "name": "stdout",
          "text": [
            "260.3333333333333\n"
          ]
        }
      ]
    },
    {
      "cell_type": "markdown",
      "source": [
        "---\n",
        "\n",
        "Optimizing with the Champion/Challenger Framework:\n",
        "\n",
        "\n",
        "Suppose you have a champion email and want to continue A/B testing\n",
        "to try to improve it. You do another random split of your users, into a new\n",
        "Group A and a new Group B. You send the champion email to Group A. You\n",
        "send another email to Group B that differs from the champion email in one\n",
        "way that you want to learn about; for example, maybe it uses formal rather\n",
        "than informal language. When we compare the revenues from Group A and\n",
        "Group B after the email campaign, we’ll be able to see whether this new\n",
        "email performs better than the champion email.\n",
        "\n",
        "---\n",
        "\n",
        "Preventing Mistakes with Twyman’s Law and A/A Testing:\n",
        "\n",
        "\n",
        "A/B testing is a relatively simple process from beginning to end. Nevertheless,\n",
        "we are all human and make mistakes. In any data science effort, not just A/B\n",
        "A/B testing, it’s important to proceed carefully and constantly check whether\n",
        "we’ve done something wrong. One piece of evidence that often indicates\n",
        "that we’ve done something wrong is that things are going too well."
      ],
      "metadata": {
        "id": "O-gvUR-xxI5x"
      }
    },
    {
      "cell_type": "markdown",
      "source": [
        "---\n",
        "\n",
        "Understanding Effect Sizes:\n",
        "\n",
        "In the first A/B test we ran, we observed a difference of $125\n",
        "\n",
        "between the\n",
        "Group A users who received a black-text email and the Group B users who\n",
        "received a blue-text email. This $125\n",
        "\n",
        "difference between groups is also\n",
        "called the A/B test’s effect size. It’s natural to try to form a judgment about\n",
        "whether we should consider this $125 effect size a small effect, a medium\n",
        "effect, or a large effect.\n",
        "\n"
      ],
      "metadata": {
        "id": "5evyk-d7xzxH"
      }
    },
    {
      "cell_type": "markdown",
      "source": [
        "To judge whether an effect is small or large, we have to compare it to\n",
        "something else. Consider the following list of nominal GDP figures (in\n",
        "US dollars, as of 2019) for Malaysia, Myanmar, and the Marshall Islands,\n",
        "respectively:"
      ],
      "metadata": {
        "id": "LHO5gOn4yNcA"
      }
    },
    {
      "cell_type": "code",
      "source": [
        "# The result is 158884197328.32672, or about $158,884,197,328 (almost\n",
        "# $159 billion). The standard deviation is a common way to measure how dis-\n",
        "# persed a dataset is.\n",
        "\n",
        "gdps=[365303000000,65994000000,220000000]\n",
        "print(np.std(gdps))"
      ],
      "metadata": {
        "colab": {
          "base_uri": "https://localhost:8080/"
        },
        "id": "RCz78fcmyVHQ",
        "outputId": "81a30a24-1d6f-4caf-dc02-00682a32bd70"
      },
      "execution_count": null,
      "outputs": [
        {
          "output_type": "stream",
          "name": "stdout",
          "text": [
            "158884197328.32672\n"
          ]
        }
      ]
    },
    {
      "cell_type": "code",
      "source": [
        "# The output is about 7.9 · 10–10, which shows us that the $125 effect size\n",
        "# is a little more than 1 one-billionth of the standard deviation of our GDP figures.\n",
        "\n",
        "print(125/np.std(gdps))"
      ],
      "metadata": {
        "colab": {
          "base_uri": "https://localhost:8080/"
        },
        "id": "RyPXcp7Fy1tM",
        "outputId": "f26ba39b-b4eb-4793-ccda-497f8dc4861a"
      },
      "execution_count": null,
      "outputs": [
        {
          "output_type": "stream",
          "name": "stdout",
          "text": [
            "7.867365169217765e-10\n"
          ]
        }
      ]
    },
    {
      "cell_type": "code",
      "source": [
        "\n",
        "# we conduct a survey of the prices of burgers at local restaurants. Maybe we find the following prices:\n",
        "burgers=[9.0,12.99,10.50]\n",
        "\n",
        "#tandard deviation\n",
        "print(np.std(burgers))"
      ],
      "metadata": {
        "colab": {
          "base_uri": "https://localhost:8080/"
        },
        "id": "61-I0xEty_VV",
        "outputId": "f2c3994b-543d-4809-f1a3-57f3dbf86c8c"
      },
      "execution_count": null,
      "outputs": [
        {
          "output_type": "stream",
          "name": "stdout",
          "text": [
            "1.6455394252341695\n"
          ]
        }
      ]
    },
    {
      "cell_type": "markdown",
      "source": [
        "The standard deviation of our burger price data is about 1.65. So, two\n",
        "countries’ GDPs differing by about $80 billion is roughly comparable to\n",
        "two burger prices differing by about 80 cents: both represent about half of\n",
        "a standard deviation in their respective domains."
      ],
      "metadata": {
        "id": "V3VA1xJ9zNdL"
      }
    },
    {
      "cell_type": "code",
      "source": [
        "#when we compare a $125 effect size to this, we see that it’s huge:\n",
        "\n",
        "# We see that $125 is about 75.9 burger price standard deviations.\n",
        "# Seeing a $125 difference in burger prices in your town is therefore something like\n",
        "# seeing a man who is over 20 feet tall.\n",
        "\n",
        "print(125/np.std(burgers))\n",
        "#the result is about 0.76"
      ],
      "metadata": {
        "colab": {
          "base_uri": "https://localhost:8080/"
        },
        "id": "bLh-fCjUzQ7S",
        "outputId": "27688489-9fec-49a8-c579-20593f75b9a4"
      },
      "execution_count": null,
      "outputs": [
        {
          "output_type": "stream",
          "name": "stdout",
          "text": [
            "75.96293232671214\n"
          ]
        }
      ]
    },
    {
      "cell_type": "code",
      "source": [
        "print(125/np.std(emailresults1['revenue']))"
      ],
      "metadata": {
        "colab": {
          "base_uri": "https://localhost:8080/"
        },
        "id": "lw6l8ZUbzj1g",
        "outputId": "a04dc2e5-5746-4742-cd3d-ef8fcc65af0f"
      },
      "execution_count": null,
      "outputs": [
        {
          "output_type": "stream",
          "name": "stdout",
          "text": [
            "0.763769235188029\n"
          ]
        }
      ]
    },
    {
      "cell_type": "markdown",
      "source": [
        "Calculating the Significance of Data:\n",
        "\n",
        "\n",
        "We typically use statistical significance as the key piece of evidence that con-\n",
        "vinces us that an effect that we study in an A/B test is real. Mathematically,\n",
        "statistical significance depends on three things:\n",
        "\n",
        "    • The size of the effect being studied (like the increase in revenue that\n",
        "    results from changing an email’s text color). Bigger effects make statistical significance more likely.\n",
        "    • The size of the sample being studied (the number of people on a sub-\n",
        "    scriber list who are receiving our marketing emails). Bigger samples\n",
        "    make statistical significance more likely.\n",
        "    • The significance threshold we’re using (typically 0.05). A higher thresh-\n",
        "    old makes statistical significance more likely\n",
        "\n",
        "If we have a big sample size, and we’re studying a big effect, our t-tests will\n",
        "likely reach statistical significance. On the other hand, if we study an effect\n",
        "that’s very small, with a sample that’s very small, we may have predestined our\n",
        "own failure: the probability that we detect a statistically significant result is essentially 0—even if the email truly does have an effect. Since running an\n",
        "A/B test costs time and money, we’d rather not waste resources running tests\n",
        "like this that are predestined to fail to reach statistical significance."
      ],
      "metadata": {
        "id": "i7Sl7Ad1z1ay"
      }
    },
    {
      "cell_type": "code",
      "source": [
        "#mport a module into Python that makes calculating statistical power easy\n",
        "\n",
        "from statsmodels.stats.power import TTestIndPower"
      ],
      "metadata": {
        "id": "rwmP2Tl50J84"
      },
      "execution_count": null,
      "outputs": []
    },
    {
      "cell_type": "code",
      "source": [
        "# To calculate power with this module, we’ll need to define parameters for\n",
        "# the three things that determine statistical significance (see the preceding bulleted list).\n",
        "\n",
        "alpha=0.05\n",
        "\n",
        "# we choose the standard 0.05 threshold for alpha, as is standard in much empirical research."
      ],
      "metadata": {
        "id": "mqHJoY040QlQ"
      },
      "execution_count": null,
      "outputs": []
    },
    {
      "cell_type": "code",
      "source": [
        "# Define sample size.\n",
        "\n",
        "#A/B test on a group of email subscribers that consists of 90 people total.\n",
        "# That means we’ll have 45 people in Group A and 45 people in Group B,\n",
        "# so we define the number of observations in each of our groups as 45.\n",
        "\n",
        "nobs=45"
      ],
      "metadata": {
        "id": "s8-rU4so0h-N"
      },
      "execution_count": null,
      "outputs": []
    },
    {
      "cell_type": "code",
      "source": [
        "#define an estimated effect size\n",
        "\n",
        "effectsize=0.5"
      ],
      "metadata": {
        "id": "grlOnTEf0yxb"
      },
      "execution_count": null,
      "outputs": []
    },
    {
      "cell_type": "code",
      "source": [
        "#  can use a function that will take the three parameters we’ve\n",
        "# defined and calculate the statistical power we should expect:\n",
        "\n",
        "analysis = TTestIndPower()\n",
        "power = analysis.solve_power(effect_size=effectsize, nobs1=nobs, alpha=alpha)\n",
        "\n",
        "# the estimated statistical power for our hypothetical A/B test is about 0.65\n",
        "print(power)"
      ],
      "metadata": {
        "colab": {
          "base_uri": "https://localhost:8080/"
        },
        "id": "32gI8k441JGb",
        "outputId": "e7c6017d-aca5-491a-8415-9735128f8739"
      },
      "execution_count": null,
      "outputs": [
        {
          "output_type": "stream",
          "name": "stdout",
          "text": [
            "0.6501855019775578\n"
          ]
        }
      ]
    },
    {
      "cell_type": "markdown",
      "source": [
        "This means that we expect about a 65 percent chance of detecting an effect from our A/B test and about a 35 percent chance that even though a true effect exists, our A/B test doesn’t find it. These odds might seem unfavorable if a given /B test is expected to be expensive."
      ],
      "metadata": {
        "id": "-xVHYxlw1dOt"
      }
    },
    {
      "cell_type": "code",
      "source": [
        "analysis = TTestIndPower()\n",
        "alpha = 0.05\n",
        "effect = 0.5\n",
        "power = 0.8\n",
        "observations = analysis.solve_power(effect_size=effect, power=power, alpha=alpha)\n",
        "\n",
        "# the result is about 63.8\n",
        "print(observations)"
      ],
      "metadata": {
        "colab": {
          "base_uri": "https://localhost:8080/"
        },
        "id": "qdpX7VoF1mZ5",
        "outputId": "c96548fe-fa17-466c-ab7f-77f6ab3dd262"
      },
      "execution_count": null,
      "outputs": [
        {
          "output_type": "stream",
          "name": "stdout",
          "text": [
            "63.7656117754095\n"
          ]
        }
      ]
    },
    {
      "cell_type": "markdown",
      "source": [
        "This means that if we want to have 80 percent statistical power for our\n",
        "planned A/B test, we’ll need to recruit at least 64 participants for both\n",
        "groups. Being able to perform these kinds of calculations can be helpful\n",
        "in the planning stages of A/B tests."
      ],
      "metadata": {
        "id": "W3aMApgj11g3"
      }
    },
    {
      "cell_type": "markdown",
      "source": [
        "---\n",
        "\n",
        "Applications and Advanced Considerations:\n",
        "\n",
        "1. One of the most common applications of A/B testing is user interface/experience design. A website might randomly assign\n",
        "visitors to two groups (called Group A and Group B, as usual) and show different versions of the site to each group. The site can then measure which\n",
        "version leads to more user satisfaction, higher revenue, more link clicks,\n",
        "more time spent on the site, or whatever else interests the company. The\n",
        "whole process can be completely automated, which is what enables the highspeed, high-volume A/B testing that today’s top tech companies are doing.\n",
        "\n",
        "2. E-commerce companies run tests, including A/B tests, on product pricing. By running an A/B test on pricing, you can measure what economists\n",
        "call the price elasticity of demand, meaning how much demand changes in\n",
        "response to price changes.\n",
        "\n",
        "3. Email design, user-interface design, and product pricing are all common\n",
        "concerns for business-to-consumer (B2C) business models, in which businesses\n",
        "sell directly to consumers. B2C scenarios are a natural fit for A/B testing\n",
        "because the number of customers, products, and transactions tends to be\n",
        "higher for B2C businesses than for other businesses, so we can get large sample sizes and higher statistical power.\n",
        "\n",
        "4. In this trade-off, two goals are in constant\n",
        "tension: to explore (for example, to run A/B tests with possibly bad email\n",
        "designs to learn which is best) and to exploit (for example, to send out only\n",
        "the champion email because it seems to perform the best). Exploration\n",
        "can lead to missed opportunities if one of your challengers performs much\n",
        "worse than the champion; you would have been better off just sending out\n",
        "the champion to everyone. Exploitation can lead to missed opportunities if\n",
        "your champion is not as good as another challenger that you haven’t tested\n",
        "yet because you’re too busy exploiting your champion to do the requisite\n",
        "exploration.\n",
        "\n",
        "---"
      ],
      "metadata": {
        "id": "ceh8n8Hx148v"
      }
    },
    {
      "cell_type": "markdown",
      "source": [
        "---\n",
        "\n",
        "The Ethics of A/B Testing:\n",
        "\n",
        "A/B testing is fraught with difficult ethical issues. This may seem surpris-\n",
        "ing, but remember, A/B testing is an experimental method in which we\n",
        "intentionally alter human subjects’ experiences in order to study the results\n",
        "for our own gain. This means that A/B testing is human experimentation (example are given on the page 92)."
      ],
      "metadata": {
        "id": "QDNV5G7A2gAg"
      }
    },
    {
      "cell_type": "markdown",
      "source": [
        "---\n",
        "Summary:\n",
        "---\n",
        "We discussed A/B testing.\n",
        "\n",
        "We started with a simple t-test, and then looked at the need for random, non-confounded data collection as part of the A/B testing process. We covered some nuances of A/B testing, including the champion/challenger framework and Twyman’s law, as well as ethical concerns. In the next chapter, we’ll discuss binary classification, an essential skill for any data scientist."
      ],
      "metadata": {
        "id": "uPj0W0fh2t_b"
      }
    }
  ]
}
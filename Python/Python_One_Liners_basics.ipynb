{
  "nbformat": 4,
  "nbformat_minor": 0,
  "metadata": {
    "colab": {
      "provenance": []
    },
    "kernelspec": {
      "name": "python3",
      "display_name": "Python 3"
    },
    "language_info": {
      "name": "python"
    }
  },
  "cells": [
    {
      "cell_type": "markdown",
      "source": [
        "Python One-Liners"
      ],
      "metadata": {
        "id": "SZQykMX96YCB"
      }
    },
    {
      "cell_type": "code",
      "source": [
        "import numpy as np"
      ],
      "metadata": {
        "id": "6qEPurEJ6XL4"
      },
      "execution_count": null,
      "outputs": []
    },
    {
      "cell_type": "markdown",
      "source": [
        "1. insert the correct code for creating a numpy array"
      ],
      "metadata": {
        "id": "TOEaeWcb6o45"
      }
    },
    {
      "cell_type": "code",
      "source": [
        "a = np.array([1, 2, 3, 4, 5]) # use np\n",
        "print(a)"
      ],
      "metadata": {
        "colab": {
          "base_uri": "https://localhost:8080/"
        },
        "id": "TU0t-f-f6sea",
        "outputId": "0e46af9d-5877-4602-a720-56e21cb111f0"
      },
      "execution_count": null,
      "outputs": [
        {
          "output_type": "stream",
          "name": "stdout",
          "text": [
            "[1 2 3 4 5]\n"
          ]
        }
      ]
    },
    {
      "cell_type": "markdown",
      "source": [
        "2. consider this function:"
      ],
      "metadata": {
        "id": "0XoIdsas6yGi"
      }
    },
    {
      "cell_type": "code",
      "source": [
        "def what(n):\n",
        "  a = np.array([1, 2, 3, 4], ndmin=n)\n",
        "  print(a.ndim)\n",
        "  return a\n"
      ],
      "metadata": {
        "id": "QZK_-zLk6zJV"
      },
      "execution_count": null,
      "outputs": []
    },
    {
      "cell_type": "markdown",
      "source": [
        " what is the difference between what(1), what(2) and what(3)"
      ],
      "metadata": {
        "id": "X7grgOO4632j"
      }
    },
    {
      "cell_type": "code",
      "source": [
        "print(what(1)) # what do these print and why?\n",
        "print(what(2))\n",
        "print(what(3))\n",
        "\n",
        "#1    #One dimentional\n",
        "#[1 2 3 4]\n",
        "#2    #wo-dimentional\n",
        "#[[1 2 3 4]]\n",
        "#3    # three-dimentional\n",
        "#[[[1 2 3 4]]]\n",
        "\n",
        "#Array got one and passes one,so one dimentional,\n",
        "#then pass two, so two-dimentional, etc."
      ],
      "metadata": {
        "colab": {
          "base_uri": "https://localhost:8080/"
        },
        "id": "zZCNLWt067J9",
        "outputId": "85217f03-cd7c-4919-dc97-63cdeda3b919"
      },
      "execution_count": null,
      "outputs": [
        {
          "output_type": "stream",
          "name": "stdout",
          "text": [
            "1\n",
            "[1 2 3 4]\n",
            "2\n",
            "[[1 2 3 4]]\n",
            "3\n",
            "[[[1 2 3 4]]]\n"
          ]
        }
      ]
    },
    {
      "cell_type": "markdown",
      "source": [
        " 3. insert the correct argument for creating a numpy array with 2 dimensions\n"
      ],
      "metadata": {
        "id": "yf75nC9O7qW3"
      }
    },
    {
      "cell_type": "code",
      "source": [
        "a = np.array([1, 2, 3, 4], ndmin=2 )\n",
        "print(a)"
      ],
      "metadata": {
        "colab": {
          "base_uri": "https://localhost:8080/"
        },
        "id": "ebWQlQ0F7sPA",
        "outputId": "e458b6b4-f2d2-49c8-b452-eacd1d3d1805"
      },
      "execution_count": null,
      "outputs": [
        {
          "output_type": "stream",
          "name": "stdout",
          "text": [
            "[[1 2 3 4]]\n"
          ]
        }
      ]
    },
    {
      "cell_type": "markdown",
      "source": [
        "4. insert the correct syntax for checking the number of dimensions of a numpy array"
      ],
      "metadata": {
        "id": "ycDOkUsa71G_"
      }
    },
    {
      "cell_type": "code",
      "source": [
        "a = np.array([1, 2, 3, 4])\n",
        "print( a.ndim )\n",
        "\n",
        "b = np.array([[1, 2], [3, 4]])\n",
        "print( b.ndim )"
      ],
      "metadata": {
        "colab": {
          "base_uri": "https://localhost:8080/"
        },
        "id": "VI2jAiX175KB",
        "outputId": "aa95f6d0-39c8-4f9e-c163-e716e8d9300f"
      },
      "execution_count": null,
      "outputs": [
        {
          "output_type": "stream",
          "name": "stdout",
          "text": [
            "1\n",
            "2\n"
          ]
        }
      ]
    },
    {
      "cell_type": "markdown",
      "source": [
        "5. insert the correct syntax for printing the first item in the array:"
      ],
      "metadata": {
        "id": "1BXfqD5_8Daz"
      }
    },
    {
      "cell_type": "code",
      "source": [
        "a = np.array([1, 2, 3, 4])\n",
        "print(a[0])"
      ],
      "metadata": {
        "colab": {
          "base_uri": "https://localhost:8080/"
        },
        "id": "lJwuN95k8FaB",
        "outputId": "31a7b01d-3497-4c4f-8bb1-8b224c298057"
      },
      "execution_count": null,
      "outputs": [
        {
          "output_type": "stream",
          "name": "stdout",
          "text": [
            "1\n"
          ]
        }
      ]
    },
    {
      "cell_type": "markdown",
      "source": [
        "6. insert the correct syntax for printing the number 50 from the array"
      ],
      "metadata": {
        "id": "kuB67NiU8cID"
      }
    },
    {
      "cell_type": "code",
      "source": [
        "a = np.array([10, 20, 30, 40, 50])\n",
        "print( a[4] )"
      ],
      "metadata": {
        "colab": {
          "base_uri": "https://localhost:8080/"
        },
        "id": "GvRvn4wH8iDV",
        "outputId": "6b2a80b8-0fd2-4cf3-91e7-ef821e9a3061"
      },
      "execution_count": null,
      "outputs": [
        {
          "output_type": "stream",
          "name": "stdout",
          "text": [
            "50\n"
          ]
        }
      ]
    },
    {
      "cell_type": "markdown",
      "source": [
        "\n",
        "7. insert the correct syntax for printing the number 50 from the array\n",
        "\n"
      ],
      "metadata": {
        "id": "LK6XI1mx8j4p"
      }
    },
    {
      "cell_type": "code",
      "source": [
        "a = np.array([[10, 20, 30, 40], [50, 60, 70, 80]])\n",
        "print( a[1][0] ) # should print 50 must use a"
      ],
      "metadata": {
        "colab": {
          "base_uri": "https://localhost:8080/"
        },
        "id": "WIUxmx-A8lrg",
        "outputId": "7e4ce943-3d03-442e-99aa-81968608fb96"
      },
      "execution_count": null,
      "outputs": [
        {
          "output_type": "stream",
          "name": "stdout",
          "text": [
            "50\n"
          ]
        }
      ]
    },
    {
      "cell_type": "markdown",
      "source": [
        "\n",
        "8. use negative indexing to print the last item in the array"
      ],
      "metadata": {
        "id": "MM3UNVeU8omm"
      }
    },
    {
      "cell_type": "code",
      "source": [
        "a = np.array([10, 20, 30, 40, 50])\n",
        "print( a[-1] ) # should print 50 must use a"
      ],
      "metadata": {
        "colab": {
          "base_uri": "https://localhost:8080/"
        },
        "id": "DTK3Gp0I8zB6",
        "outputId": "df68282e-59a3-41b8-eaa5-04eb4036da15"
      },
      "execution_count": null,
      "outputs": [
        {
          "output_type": "stream",
          "name": "stdout",
          "text": [
            "50\n"
          ]
        }
      ]
    },
    {
      "cell_type": "markdown",
      "source": [
        "9. slice out everything from the second item to (not including) the fifth item"
      ],
      "metadata": {
        "id": "KLpysi-980sR"
      }
    },
    {
      "cell_type": "code",
      "source": [
        "a = np.array([10, 15, 20, 25, 30, 35, 40])\n",
        "print(a[1:4]) # should print [15 20 25] must use a"
      ],
      "metadata": {
        "colab": {
          "base_uri": "https://localhost:8080/"
        },
        "id": "aueMnUk9820r",
        "outputId": "6c0804ac-f8b0-4e49-eb89-41ac1c41d9e3"
      },
      "execution_count": null,
      "outputs": [
        {
          "output_type": "stream",
          "name": "stdout",
          "text": [
            "[15 20 25]\n"
          ]
        }
      ]
    },
    {
      "cell_type": "markdown",
      "source": [
        "10. Slice out everything from the third item to (not including) the fifth item\n"
      ],
      "metadata": {
        "id": "tja17qax9Jvk"
      }
    },
    {
      "cell_type": "code",
      "source": [
        "a = np.array([10, 15, 20, 25, 30, 35, 40])\n",
        "print( a[2:4] ) # should print [20 25] must use a"
      ],
      "metadata": {
        "colab": {
          "base_uri": "https://localhost:8080/"
        },
        "id": "1D2rqYph9MMx",
        "outputId": "73ecbc9d-dd44-47ba-bb81-f941e5c12077"
      },
      "execution_count": null,
      "outputs": [
        {
          "output_type": "stream",
          "name": "stdout",
          "text": [
            "[20 25]\n"
          ]
        }
      ]
    },
    {
      "cell_type": "markdown",
      "source": [
        "\n",
        "11. slice out every other item from the second item to (not including) the fifth item"
      ],
      "metadata": {
        "id": "Apl9wIhz9NuJ"
      }
    },
    {
      "cell_type": "code",
      "source": [
        "a = np.array([10, 15, 20, 25, 30, 35, 40])\n",
        "print( a[1:4:2] ) # should print [15 25] must use a"
      ],
      "metadata": {
        "colab": {
          "base_uri": "https://localhost:8080/"
        },
        "id": "BchL06aY9QWF",
        "outputId": "1c4e526e-7ed8-41ed-9080-9e96557f2ef0"
      },
      "execution_count": null,
      "outputs": [
        {
          "output_type": "stream",
          "name": "stdout",
          "text": [
            "[15 25]\n"
          ]
        }
      ]
    },
    {
      "cell_type": "markdown",
      "source": [
        "12. slice out every other item from the entire array\n"
      ],
      "metadata": {
        "id": "iQ8eNZVA9PrZ"
      }
    },
    {
      "cell_type": "code",
      "source": [
        "a = np.array([10, 15, 20, 25, 30, 35, 40])\n",
        "print( a[::2] ) # should print [10 20 30 40] must use a"
      ],
      "metadata": {
        "colab": {
          "base_uri": "https://localhost:8080/"
        },
        "id": "8aALwRKF9TZr",
        "outputId": "a823fb26-b5fa-4a05-970b-cf3c6d83944d"
      },
      "execution_count": null,
      "outputs": [
        {
          "output_type": "stream",
          "name": "stdout",
          "text": [
            "[10 20 30 40]\n"
          ]
        }
      ]
    },
    {
      "cell_type": "markdown",
      "source": [
        "13. insert correct syntax to print the datatype of an array\n",
        "\n"
      ],
      "metadata": {
        "id": "7-__QyEY-5yf"
      }
    },
    {
      "cell_type": "code",
      "source": [
        "a = np.array([1, 2, 3])\n",
        "print( a.dtype ) # should print something indicating this is an array of integers\n",
        "#int64"
      ],
      "metadata": {
        "colab": {
          "base_uri": "https://localhost:8080/"
        },
        "id": "0nDa8FI8--3V",
        "outputId": "0a01fb77-30c5-4b39-a143-0e6617c531f3"
      },
      "execution_count": null,
      "outputs": [
        {
          "output_type": "stream",
          "name": "stdout",
          "text": [
            "int64\n"
          ]
        }
      ]
    },
    {
      "cell_type": "markdown",
      "source": [
        "14. insert the correct argument to specify that array should be of type STRING\n",
        "\n"
      ],
      "metadata": {
        "id": "2PAA8LAw_AL8"
      }
    },
    {
      "cell_type": "code",
      "source": [
        "a = np.array([1, 2, 3, 4], dtype= 'S' )\n",
        "\n",
        "#     then predict and explain the output for the following expressions\n",
        "\n",
        "print(a.dtype) #|S1\n",
        "print(a) #[b'1' b'2' b'3' b'4']\n",
        "\n",
        "# convert it to stings by using 'S' as a data type"
      ],
      "metadata": {
        "colab": {
          "base_uri": "https://localhost:8080/"
        },
        "id": "0xEaZQr-_DS-",
        "outputId": "a0a8c5ab-579e-46d5-882e-7b8bcd2579e2"
      },
      "execution_count": null,
      "outputs": [
        {
          "output_type": "stream",
          "name": "stdout",
          "text": [
            "|S1\n",
            "[b'1' b'2' b'3' b'4']\n"
          ]
        }
      ]
    },
    {
      "cell_type": "code",
      "source": [
        "print(a[0] + a[1]) #b'12'\n",
        "\n",
        "#no adittion but concationation\n",
        "#concatenating byte strings\n",
        "\n",
        "a = np.array([5, 1, -1, 3], dtype='S')\n",
        "print(a) # a[b'5' b'1' b'-1' b'3']\n",
        "\n",
        "b = a.astype('i') # changing data type\n",
        "                    #converting to the integer array\n",
        "print(b) #[5,1,-1,3]\n",
        "\n",
        "print(b[0] + b[1] + b[3]) #9  #adding up integers\n",
        "print(a[0] + a[1] + a[3]) #b'513' #concatenating byte strings"
      ],
      "metadata": {
        "colab": {
          "base_uri": "https://localhost:8080/"
        },
        "id": "gLpWJJYhANL0",
        "outputId": "51758c6d-ac57-4d7f-b746-0d66b2f434d8"
      },
      "execution_count": null,
      "outputs": [
        {
          "output_type": "stream",
          "name": "stdout",
          "text": [
            "b'12'\n",
            "[b'5' b'1' b'-1' b'3']\n",
            "9\n",
            "b'513'\n"
          ]
        }
      ]
    },
    {
      "cell_type": "markdown",
      "source": [
        "\n",
        "15. insert correct method to change data type to integer\n"
      ],
      "metadata": {
        "id": "K2-p0R35_GuQ"
      }
    },
    {
      "cell_type": "code",
      "source": [
        "a = np.array([1.1, 2.1, 3.1])\n",
        "b = a.astype( 'i' )\n",
        "print(b) # should print [1 2 3] now"
      ],
      "metadata": {
        "colab": {
          "base_uri": "https://localhost:8080/"
        },
        "id": "QbIhYsFl_Ijf",
        "outputId": "872bb0d8-217d-461b-ddc5-02b1b2cd7077"
      },
      "execution_count": null,
      "outputs": [
        {
          "output_type": "stream",
          "name": "stdout",
          "text": [
            "[1 2 3]\n"
          ]
        }
      ]
    },
    {
      "cell_type": "markdown",
      "source": [
        "16. use the correct method to make a copy of the array\n",
        "\n",
        "\n"
      ],
      "metadata": {
        "id": "G0-Q9SLJ_ZNA"
      }
    },
    {
      "cell_type": "code",
      "source": [
        "a = np.array([1, 2, 3, 4, 5])\n",
        "x = np.copy(a) # [1 2 3 4 5]\n",
        "print(x)"
      ],
      "metadata": {
        "colab": {
          "base_uri": "https://localhost:8080/"
        },
        "id": "Eq6NqMc9_hVq",
        "outputId": "627edb27-4222-47fe-9121-f2ec83db5c70"
      },
      "execution_count": null,
      "outputs": [
        {
          "output_type": "stream",
          "name": "stdout",
          "text": [
            "[1 2 3 4 5]\n"
          ]
        }
      ]
    },
    {
      "cell_type": "code",
      "source": [
        "#     then predict the effect of the following expressions\n",
        "\n",
        "x[0] = -5\n",
        "print(a) # does a see the change? #[1 2 3 4 5]\n",
        "#no change here\n",
        "\n",
        "b = a\n",
        "b[0] = -25\n",
        "print(a) # does a see the change? #[-25   2   3   4   5]\n",
        "#changed because 'b' is a reference\n",
        "\n",
        "#yes, there is a change.\n",
        "#Changing b[0] modifies 'a' as well (they point to the same memory location)."
      ],
      "metadata": {
        "colab": {
          "base_uri": "https://localhost:8080/"
        },
        "id": "4fyen87-C4nT",
        "outputId": "361b297e-0caa-4fc6-8502-0b74fc2d7154"
      },
      "execution_count": null,
      "outputs": [
        {
          "output_type": "stream",
          "name": "stdout",
          "text": [
            "[1 2 3 4 5]\n",
            "[-25   2   3   4   5]\n"
          ]
        }
      ]
    },
    {
      "cell_type": "markdown",
      "source": [
        "17. use the correct method to make a view of this array:\n"
      ],
      "metadata": {
        "id": "qfp7KJbD_cKU"
      }
    },
    {
      "cell_type": "code",
      "source": [
        "a = np.array([1, 2, 3, 4, 5])\n",
        "d = a.view()"
      ],
      "metadata": {
        "id": "c_8ecaEz_dy9"
      },
      "execution_count": null,
      "outputs": []
    },
    {
      "cell_type": "code",
      "source": [
        "#     then predict the effect of these expressions:\n",
        "\n",
        "print(a.base) #none\n",
        "\n",
        "print(d.base) # why is this different from all the others?\n",
        "#different because it references to 'a'\n",
        "\n",
        "b = a\n",
        "print(b.base) #none\n",
        "\n",
        "c = a.copy()\n",
        "print(c.base) #none\n",
        "\n",
        "#'base' is pointing at returns the base object if the\n",
        "# memory of the array is owned by some other object.\n",
        "# this attribute is used to discover whether an array is\n",
        "# a view of another base array. If the array owns its memory,\n",
        "# as is the case with arrays that are not views but are created\n",
        "# independently, ndarray. base"
      ],
      "metadata": {
        "colab": {
          "base_uri": "https://localhost:8080/"
        },
        "id": "yysPIlapDr7d",
        "outputId": "0e4e3809-3d6e-41f0-f1b6-3f2e51a4ee9d"
      },
      "execution_count": null,
      "outputs": [
        {
          "output_type": "stream",
          "name": "stdout",
          "text": [
            "None\n",
            "[1 2 3 4 5]\n",
            "None\n",
            "None\n"
          ]
        }
      ]
    },
    {
      "cell_type": "markdown",
      "source": [
        "18.predict (and explain) the outcome of these expressions\n"
      ],
      "metadata": {
        "id": "v9HFlreq_6v9"
      }
    },
    {
      "cell_type": "code",
      "source": [
        "a = np.array([1, 2, 3, 4]) #reshaping it\n",
        "print(a.shape) # 4 rows and no columns #(4,)\n",
        "\n",
        "a.reshape(1, 4) #one row 4 columns #[1 2 3 4]\n",
        "print(a)\n",
        "\n",
        "a.reshape(2, 2) #two rows and columns  #[1 2 3 4]\n",
        "print(a)\n",
        "\n",
        "a.reshape(4, 1) #4 rows and one column  #[1 2 3 4]\n",
        "print(a)"
      ],
      "metadata": {
        "colab": {
          "base_uri": "https://localhost:8080/"
        },
        "id": "-7GJG6SOAA9n",
        "outputId": "cc899385-6806-4e74-98d2-7bc42dea12e4"
      },
      "execution_count": null,
      "outputs": [
        {
          "output_type": "stream",
          "name": "stdout",
          "text": [
            "(4,)\n",
            "[1 2 3 4]\n",
            "[1 2 3 4]\n",
            "[1 2 3 4]\n"
          ]
        }
      ]
    },
    {
      "cell_type": "markdown",
      "source": [
        "19. use the correct numpy method to change the shape of an array from 1-D to 2-D:\n"
      ],
      "metadata": {
        "id": "RJXbWIoTADXp"
      }
    },
    {
      "cell_type": "code",
      "source": [
        "a = np.array([1, 2, 3, 4])\n",
        "a = a.reshape(2, 2) # write code here must use a\n",
        "print(a) # must print [[1, 2] [3 4]]"
      ],
      "metadata": {
        "colab": {
          "base_uri": "https://localhost:8080/"
        },
        "id": "Bj87Xu1MAE6V",
        "outputId": "9100edf4-5444-4f53-e5d5-0fe6e95314c8"
      },
      "execution_count": null,
      "outputs": [
        {
          "output_type": "stream",
          "name": "stdout",
          "text": [
            "[[1 2]\n",
            " [3 4]]\n"
          ]
        }
      ]
    },
    {
      "cell_type": "markdown",
      "source": [
        "20. use correct numpy method to change shape of an array from 2-D to 1-D\n"
      ],
      "metadata": {
        "id": "RcWMFZRpD61C"
      }
    },
    {
      "cell_type": "code",
      "source": [
        "a = np.array([[1, 2, 3, 4, 5, 6], [7, 8, 9, 10, 11, 12]])\n",
        "b = a.reshape( 12 ) # complete this statement to result in the output below\n",
        "print(b) # must print [ 1  2  3  4  5  6  7  8  9 10 11 12]"
      ],
      "metadata": {
        "colab": {
          "base_uri": "https://localhost:8080/"
        },
        "id": "zcOK7gcFD8Qm",
        "outputId": "5d4a7617-5d1d-40ba-cf5b-594a060be712"
      },
      "execution_count": null,
      "outputs": [
        {
          "output_type": "stream",
          "name": "stdout",
          "text": [
            "[ 1  2  3  4  5  6  7  8  9 10 11 12]\n"
          ]
        }
      ]
    },
    {
      "cell_type": "markdown",
      "source": [
        "21. use a correct numpy method to join two arrays into a single array\n"
      ],
      "metadata": {
        "id": "wPxMvYL6D9EU"
      }
    },
    {
      "cell_type": "code",
      "source": [
        "a = np.array([1, 2, 3])\n",
        "b = np.array([4, 5, 6])\n",
        "c = np.concatenate([a, b]) # use np, a and b somehow\n",
        "print(c) # must print [1 2 3 4 5 6]"
      ],
      "metadata": {
        "colab": {
          "base_uri": "https://localhost:8080/"
        },
        "id": "uTeNwmx8EAk0",
        "outputId": "68ec6ef7-f01f-4e0f-cf57-0d0fb4f4414d"
      },
      "execution_count": null,
      "outputs": [
        {
          "output_type": "stream",
          "name": "stdout",
          "text": [
            "[1 2 3 4 5 6]\n"
          ]
        }
      ]
    },
    {
      "cell_type": "code",
      "source": [
        "#     then predict and explain the outcome of the following expressions\n",
        "\n",
        "a = np.array([[1, 2], [3, 4]])\n",
        "b = np.array([[5, 6], [7, 8]])\n",
        "c = np.concatenate((a, b), axis=1)\n",
        "print(c) # what gets printed and why?\n",
        "\n",
        "#axis=1 concatenating horizontally\n",
        "#[[1 2 5 6] [3 4 7 8]]\n",
        "\n",
        "\n",
        "c  = np.stack((a, b), axis = 0) # what does stack do differently (if anything)?\n",
        "print(c) #not concatenating but stacking\n",
        "#three-dimentional\n",
        "\n",
        "#[[[1 2] [3 4]] #creates a layer and separtes them\n",
        "\n",
        "# [[5 6] [7 8]]]"
      ],
      "metadata": {
        "colab": {
          "base_uri": "https://localhost:8080/"
        },
        "id": "UzemJBKSECGZ",
        "outputId": "ef0ab9bd-9b35-4d26-cc17-94f7f0a66b04"
      },
      "execution_count": null,
      "outputs": [
        {
          "output_type": "stream",
          "name": "stdout",
          "text": [
            "[[1 2 5 6]\n",
            " [3 4 7 8]]\n",
            "[[[1 2]\n",
            "  [3 4]]\n",
            "\n",
            " [[5 6]\n",
            "  [7 8]]]\n"
          ]
        }
      ]
    },
    {
      "cell_type": "markdown",
      "source": [
        "22. use correct numpy syntax to find all items with value 4\n"
      ],
      "metadata": {
        "id": "UyBGLh8PEC1e"
      }
    },
    {
      "cell_type": "code",
      "source": [
        "a = np.array([1, 2, 3, 4, 5, 4, 4])\n",
        "where = np.where(a==4) # complete statement, must use np, a and 4\n",
        "print(where) # must print (array([3, 5, 6]),)"
      ],
      "metadata": {
        "colab": {
          "base_uri": "https://localhost:8080/"
        },
        "id": "6a-Jk7ahEGNI",
        "outputId": "654f146d-026b-434c-c152-2a7c0e2c6ea8"
      },
      "execution_count": null,
      "outputs": [
        {
          "output_type": "stream",
          "name": "stdout",
          "text": [
            "(array([3, 5, 6]),)\n"
          ]
        }
      ]
    },
    {
      "cell_type": "markdown",
      "source": [
        "23. use the correct numpy method to return a sorted array\n"
      ],
      "metadata": {
        "id": "JBx34EAaEHA6"
      }
    },
    {
      "cell_type": "code",
      "source": [
        "a = np.array([3, 2, 0, 1])\n",
        "b = np.sort(a) # complete statement, must use np and a\n",
        "print(b) # must print [0 1 2 3]"
      ],
      "metadata": {
        "colab": {
          "base_uri": "https://localhost:8080/"
        },
        "id": "zyKztctbEKZY",
        "outputId": "21588a0f-5e7f-4fcb-87a0-f4ef122a6a26"
      },
      "execution_count": null,
      "outputs": [
        {
          "output_type": "stream",
          "name": "stdout",
          "text": [
            "[0 1 2 3]\n"
          ]
        }
      ]
    },
    {
      "cell_type": "markdown",
      "source": [
        "24. Solve exercise 3-1 on page 57:\n",
        " How # do we find the person with maximum after-tax income in a group of people,given their yearly salary and tax rates?\n"
      ],
      "metadata": {
        "id": "xA3GiME0ENDl"
      }
    },
    {
      "cell_type": "code",
      "source": [
        "## Data: yearly salary in ($1000) [2017, 2018, 2019]\n",
        "alice = [ 99, 101, 103]\n",
        "bob = [110, 108, 105]\n",
        "tim = [ 90, 88, 85]\n",
        "\n",
        "names = ['alice','bob','tim' ]\n",
        "salaries = np.array([alice, bob, tim])\n",
        "print(salaries)\n",
        "\n",
        "taxation = np.array([[0.2, 0.25, 0.22],\n",
        "                     [0.4, 0.5 , 0.5 ],\n",
        "                     [0.1, 0.2 , 0.1 ]])\n",
        "\n",
        "#One-liner\n",
        "max_income = np.max(salaries - salaries * taxation)\n",
        "\n",
        "## Result\n",
        "print(max_income)"
      ],
      "metadata": {
        "colab": {
          "base_uri": "https://localhost:8080/"
        },
        "id": "sSJmq1XXEOkQ",
        "outputId": "b4a6491c-b508-40ba-a507-68cf0c3e7b41"
      },
      "execution_count": null,
      "outputs": [
        {
          "output_type": "stream",
          "name": "stdout",
          "text": [
            "[[ 99 101 103]\n",
            " [110 108 105]\n",
            " [ 90  88  85]]\n",
            "81.0\n"
          ]
        }
      ]
    },
    {
      "cell_type": "markdown",
      "source": [
        "25. predict and explain the effect of the following expressions\n"
      ],
      "metadata": {
        "id": "6rXlh0hiEPXE"
      }
    },
    {
      "cell_type": "code",
      "source": [
        "a = np.array([\n",
        "              [[1, 2], [3, 4]],\n",
        "              [[5, 6], [7, 8]]\n",
        "              ])\n",
        "#two-dimentional array (matrix)\n",
        "\n",
        "#average horizontally(layers) or first-dimention\n",
        "print(np.average(a, axis=0)) # review the meaning of the axis parameter\n",
        "\n",
        "#calculating vertically(within layers) or second-dimention\n",
        "print(np.average(a, axis=1))\n",
        "\n",
        "#avearge across columns or third-dimention\n",
        "print(np.average(a, axis=2))\n"
      ],
      "metadata": {
        "colab": {
          "base_uri": "https://localhost:8080/"
        },
        "id": "_omMpE3hESpt",
        "outputId": "8976ad3c-bab0-4889-af71-621bf0744947"
      },
      "execution_count": null,
      "outputs": [
        {
          "output_type": "stream",
          "name": "stdout",
          "text": [
            "[[3. 4.]\n",
            " [5. 6.]]\n",
            "[[2. 3.]\n",
            " [6. 7.]]\n",
            "[[1.5 3.5]\n",
            " [5.5 7.5]]\n"
          ]
        }
      ]
    },
    {
      "cell_type": "markdown",
      "source": [
        "26. predict and explain the effect of the following expressions\n"
      ],
      "metadata": {
        "id": "ZRR02ojIEoRv"
      }
    },
    {
      "cell_type": "code",
      "source": [
        "a = np.array([[[ 1,  2,  3], [22,  5,  6], [ 7,  8,  9]],\n",
        "              [[11, 12, 10], [ 4, 14, 15], [16, 17, 18]],\n",
        "              [[19, 20, 21], [13, 23, 24], [25, 26, 27]]])"
      ],
      "metadata": {
        "id": "P9ZzdpH9MPL_"
      },
      "execution_count": null,
      "outputs": []
    },
    {
      "cell_type": "code",
      "source": [
        "b = np.sort(a, axis=0)\n",
        "print(b) # what gets printed and why?\n",
        "#[[[ 1  2  3] [ 4  5  6] [ 7  8  9]]\n",
        "# [[11 12 10] [13 14 15] [16 17 18]]\n",
        "# [[19 20 21] [22 23 24] [25 26 27]]]\n",
        "\n",
        "c = np.sort(a, axis=1)\n",
        "print(c)\n",
        "#[[[ 1  2  3] [ 7  5  6] [22  8  9]]\n",
        "# [[ 4 12 10] [11 14 15] [16 17 18]]\n",
        "#[[13 20 21] [19 23 24] [25 26 27]]]\n",
        "\n",
        "d = np.sort(a, axis=2)\n",
        "print(d)\n",
        "#[[[ 1  2  3] [ 5  6 22] [ 7  8  9]]\n",
        "#[[10 11 12] [ 4 14 15] [16 17 18]]\n",
        "#[[19 20 21] [13 23 24] [25 26 27]]]\n",
        "\n",
        "#Basic process is is seprarting it into the layers (1,2, and 3)\n",
        "#then sorting column-wise into smallest, middle, and largest.\n",
        "#axis=0, sorts layers vertically\n",
        "#axis=1, sorts each individual row\n",
        "#axis=2, sorts each elemnts in the row by itself\n",
        "#sorts the same row\n"
      ],
      "metadata": {
        "colab": {
          "base_uri": "https://localhost:8080/"
        },
        "id": "AdphmXLCMWgr",
        "outputId": "79ba434a-3cac-4bd8-8eb3-7083659abaf0"
      },
      "execution_count": null,
      "outputs": [
        {
          "output_type": "stream",
          "name": "stdout",
          "text": [
            "[[[ 1  2  3]\n",
            "  [ 4  5  6]\n",
            "  [ 7  8  9]]\n",
            "\n",
            " [[11 12 10]\n",
            "  [13 14 15]\n",
            "  [16 17 18]]\n",
            "\n",
            " [[19 20 21]\n",
            "  [22 23 24]\n",
            "  [25 26 27]]]\n",
            "[[[ 1  2  3]\n",
            "  [ 7  5  6]\n",
            "  [22  8  9]]\n",
            "\n",
            " [[ 4 12 10]\n",
            "  [11 14 15]\n",
            "  [16 17 18]]\n",
            "\n",
            " [[13 20 21]\n",
            "  [19 23 24]\n",
            "  [25 26 27]]]\n",
            "[[[ 1  2  3]\n",
            "  [ 5  6 22]\n",
            "  [ 7  8  9]]\n",
            "\n",
            " [[10 11 12]\n",
            "  [ 4 14 15]\n",
            "  [16 17 18]]\n",
            "\n",
            " [[19 20 21]\n",
            "  [13 23 24]\n",
            "  [25 26 27]]]\n"
          ]
        }
      ]
    }
  ]
}